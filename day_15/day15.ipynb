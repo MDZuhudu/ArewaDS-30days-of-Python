{
 "cells": [
  {
   "cell_type": "code",
   "execution_count": 8,
   "metadata": {},
   "outputs": [
    {
     "name": "stdout",
     "output_type": "stream",
     "text": [
      "Hello world\n",
      "10\n"
     ]
    },
    {
     "data": {
      "text/plain": [
       "8.0"
      ]
     },
     "execution_count": 8,
     "metadata": {},
     "output_type": "execute_result"
    }
   ],
   "source": [
    "#sytax error\n",
    "print('Hello world')\n",
    "\n",
    "#name error\n",
    "age = 10\n",
    "print(age)\n",
    "\n",
    "#Index Error\n",
    "num = [1,2,3,4,5]\n",
    "num=[4]\n",
    "\n",
    "#module error\n",
    "import math\n",
    "\n",
    "#attribute error\n",
    "math.pi\n",
    "\n",
    "user = {'name':'Asab', 'age':250, 'country':'Finland'}\n",
    "user['name']\n",
    "user['country']\n",
    "\n",
    "4 + int('3')\n",
    "4 + float('3')\n",
    "\n",
    "from math import pow\n",
    "pow(2,3)\n"
   ]
  },
  {
   "cell_type": "markdown",
   "metadata": {},
   "source": [
    "completed debugging the error examples\n"
   ]
  }
 ],
 "metadata": {
  "kernelspec": {
   "display_name": "Arewadatascience",
   "language": "python",
   "name": "python3"
  },
  "language_info": {
   "codemirror_mode": {
    "name": "ipython",
    "version": 3
   },
   "file_extension": ".py",
   "mimetype": "text/x-python",
   "name": "python",
   "nbconvert_exporter": "python",
   "pygments_lexer": "ipython3",
   "version": "3.12.0"
  }
 },
 "nbformat": 4,
 "nbformat_minor": 2
}

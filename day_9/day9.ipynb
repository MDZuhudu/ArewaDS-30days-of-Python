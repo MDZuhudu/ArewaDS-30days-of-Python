{
 "cells": [
  {
   "cell_type": "markdown",
   "metadata": {},
   "source": [
    "# Day 9 \n",
    "# Exercises: Level 1"
   ]
  },
  {
   "cell_type": "code",
   "execution_count": 11,
   "metadata": {},
   "outputs": [
    {
     "name": "stdout",
     "output_type": "stream",
     "text": [
      "You need 7 more years to learn to drive.\n"
     ]
    }
   ],
   "source": [
    "a = int(input('Enter Your Age: '))          #Q1\n",
    "print('You are old enough to drive: ') if a>=18 else print('You need', (18 - a) ,'more years to learn to drive.')"
   ]
  },
  {
   "cell_type": "code",
   "execution_count": 27,
   "metadata": {},
   "outputs": [
    {
     "name": "stdout",
     "output_type": "stream",
     "text": [
      "Am 15 years older than you\n"
     ]
    }
   ],
   "source": [
    "#Compare the values of my_age and your_age using if … else. Who is older (me or you)? Use input(“Enter your age: ”) to get the age as input. You can use a \n",
    "# nested condition to print 'year' for 1 year difference in age, 'years' for bigger differences, and a custom text if my_age = your_age. Output:\n",
    "\n",
    "my_age = int(input('Enter Your age: '))         #Q2\n",
    "your_age = int(input('Enter Your age: '))\n",
    "if my_age>your_age: print('Am',(my_age-your_age), 'years older than you')\n",
    "else: print('You are', (your_age-my_age), ' years older than me' )\n"
   ]
  },
  {
   "cell_type": "code",
   "execution_count": 43,
   "metadata": {},
   "outputs": [
    {
     "name": "stdout",
     "output_type": "stream",
     "text": [
      "A is less than B\n"
     ]
    }
   ],
   "source": [
    "#Get two numbers from the user using input prompt. If a is greater than b return a is greater than b, if a is less b return a is smaller than b,\n",
    "#else a is equal to b. Output:\n",
    "\n",
    "A = int(input('Enter Number one: '))        #Q3\n",
    "B = int(input('Enter Number two: '))\n",
    "if A > B: print('A is greater than B')\n",
    "elif A < B : print('A is less than B')\n",
    "else : print('A is equal to B')\n"
   ]
  },
  {
   "cell_type": "markdown",
   "metadata": {},
   "source": [
    "# Exercises: Level 2"
   ]
  },
  {
   "cell_type": "code",
   "execution_count": 54,
   "metadata": {},
   "outputs": [
    {
     "name": "stdout",
     "output_type": "stream",
     "text": [
      "C\n"
     ]
    }
   ],
   "source": [
    "score = int(input('Enter Your Score:'))         #Q1\n",
    "if score >=80 : print('A')\n",
    "elif score >=70 : print('B')\n",
    "elif score >=60 : print('C')\n",
    "elif score >=50 : print('D')\n",
    "elif score <=49 : print('F')\n",
    "else : print('Invalid Number')\n"
   ]
  },
  {
   "cell_type": "code",
   "execution_count": 66,
   "metadata": {},
   "outputs": [
    {
     "name": "stdout",
     "output_type": "stream",
     "text": [
      "Summer\n"
     ]
    }
   ],
   "source": [
    "Autumn = ['September','October','November']         #Q2\n",
    "Winter = ['December','January','February']\n",
    "Spring = ['March','April','May']\n",
    "Summer = ['June','July','August']\n",
    "season = input(\"Enter a Month:\")\n",
    "if season in Autumn : print('Autumn')\n",
    "elif season in Winter : print('Winter')\n",
    "elif season in Spring : print('Spring')\n",
    "elif season in Summer : print('Summer')\n",
    "else : print('Invalid Month')"
   ]
  },
  {
   "cell_type": "code",
   "execution_count": 82,
   "metadata": {},
   "outputs": [
    {
     "name": "stdout",
     "output_type": "stream",
     "text": [
      "None ['banana', 'orange', 'mango', 'lemon', 'fruit']\n"
     ]
    }
   ],
   "source": [
    "fruits = ['banana', 'orange', 'mango', 'lemon']         #Q3\n",
    "if 'fruit' in fruits : print('That fruit already exist in the list')\n",
    "else : print(fruits.append('fruit'), fruits)"
   ]
  },
  {
   "cell_type": "markdown",
   "metadata": {},
   "source": [
    "# Exercises: Level 3"
   ]
  },
  {
   "cell_type": "code",
   "execution_count": 108,
   "metadata": {},
   "outputs": [
    {
     "name": "stdout",
     "output_type": "stream",
     "text": [
      "Node\n",
      "Yes Python Exist\n",
      "unknown title\n",
      "Yetayeh Asabeneh lives in Finland . He is married.\n"
     ]
    }
   ],
   "source": [
    "person={\n",
    "    'first_name': 'Asabeneh',\n",
    "    'last_name': 'Yetayeh',\n",
    "    'age': 250,\n",
    "    'country': 'Finland',\n",
    "    'is_marred': True,\n",
    "    'skills': ['JavaScript', 'React','Node', 'MongoDB', 'Python'],\n",
    "    'address': {\n",
    "        'street': 'Space street',\n",
    "        'zipcode': '02210'\n",
    "    }\n",
    "    }\n",
    "if 'skills' in person.keys() :\n",
    "     middle_skill = int(len(person[\"skills\"])/2)\n",
    "print(person[\"skills\"][middle_skill])\n",
    "\n",
    "if 'skills' in person.keys() and 'Python' in person['skills']:print(\"Yes Python Exist\")\n",
    "else : print('Does not exist')\n",
    "\n",
    "if 'skills' in person.keys() == ('JavaScript', 'React') in person['skills']: print('He is a front end developer')\n",
    "if 'skills' in person.keys() == ('MongoDB', 'Python', 'Node') in person['skills']: print('He is a backend developer') \n",
    "if 'skills' in person.keys() == ('MongoDB', 'React', 'Node') in person['skills']: print('He is a fullstack developer') \n",
    "else : print('unknown title')\n",
    "\n",
    "\n",
    "if person['is_marred'] == True and person['country'] == 'Finland':\n",
    "    print(person['last_name'], person['first_name'],'lives in', person['country'], '. He is married.')"
   ]
  }
 ],
 "metadata": {
  "kernelspec": {
   "display_name": "Arewadatascience",
   "language": "python",
   "name": "python3"
  },
  "language_info": {
   "codemirror_mode": {
    "name": "ipython",
    "version": 3
   },
   "file_extension": ".py",
   "mimetype": "text/x-python",
   "name": "python",
   "nbconvert_exporter": "python",
   "pygments_lexer": "ipython3",
   "version": "3.12.0"
  }
 },
 "nbformat": 4,
 "nbformat_minor": 2
}

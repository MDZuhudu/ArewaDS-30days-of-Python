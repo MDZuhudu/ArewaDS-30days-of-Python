{
 "cells": [
  {
   "cell_type": "markdown",
   "metadata": {},
   "source": [
    "# Exercises: Level 1\n",
    "### Explain the difference between map, filter, and reduce.\n",
    "\n",
    "Map: is a function that works as an iterator to return a result after applying a function to every item of an iterable (tuple, lists, etc.). It is used when you want to apply a single transformation function to all the iterable elements. The iterable and function are passed as arguments to the map in Python.\n",
    "\n",
    "Filter: is a built-in function in Python. The filter function can be applied to an iterable such as a list or a dictionary and create a new iterator. This new iterator can filter out certain specific elements based on the condition that you provide very efficiently.\n",
    "\n",
    "Reduce: is a function that implements a mathematical technique called folding or reduction. reduce() is useful when you need to apply a function to an iterable and reduce it to a single cumulative value. Python’s reduce() is popular among developers with a functional programming background, but Python has more to offer.\n",
    "\n",
    "\n",
    "### Explain the difference between higher order function, closure and decorator\n",
    "\n",
    "higher order function: Is a function that accept a function as a parameter or returning a function as a return value from another function.\n",
    "\n",
    "Closure: is the processing of nesting a function inside another function and return the inner function.\n",
    "        \n",
    "decorators: is a way of adding new functionality to an existing object.\n",
    "\n",
    "### Define a call function before map, filter or reduce, see examples\n",
    "\n",
    "\n"
   ]
  },
  {
   "cell_type": "code",
   "execution_count": 4,
   "metadata": {},
   "outputs": [
    {
     "name": "stdout",
     "output_type": "stream",
     "text": [
      "Estonia\n",
      "Finland\n",
      "Sweden\n",
      "Denmark\n",
      "Norway\n",
      "Iceland\n"
     ]
    }
   ],
   "source": [
    "countries = ['Estonia', 'Finland', 'Sweden', 'Denmark', 'Norway', 'Iceland']\n",
    "names = ['Asabeneh', 'Lidiya', 'Ermias', 'Abraham']\n",
    "numbers = [1, 2, 3, 4, 5, 6, 7, 8, 9, 10]\n",
    "\n",
    "#Use for loop to print each country in the countries list\n",
    "\n",
    "for i in countries:\n",
    "    print(i)"
   ]
  },
  {
   "cell_type": "code",
   "execution_count": 3,
   "metadata": {},
   "outputs": [
    {
     "name": "stdout",
     "output_type": "stream",
     "text": [
      "Asabeneh\n",
      "Lidiya\n",
      "Ermias\n",
      "Abraham\n"
     ]
    }
   ],
   "source": [
    "#Use for to print each name in the names list.\n",
    "\n",
    "for i in names:\n",
    "    print(i)"
   ]
  },
  {
   "cell_type": "code",
   "execution_count": 5,
   "metadata": {},
   "outputs": [
    {
     "name": "stdout",
     "output_type": "stream",
     "text": [
      "1\n",
      "2\n",
      "3\n",
      "4\n",
      "5\n",
      "6\n",
      "7\n",
      "8\n",
      "9\n",
      "10\n"
     ]
    }
   ],
   "source": [
    "#Use for to print each number in the numbers list.\n",
    "\n",
    "for i in numbers:\n",
    "    print(i)"
   ]
  },
  {
   "cell_type": "markdown",
   "metadata": {},
   "source": [
    "# Exercises: Level 2"
   ]
  },
  {
   "cell_type": "code",
   "execution_count": 10,
   "metadata": {},
   "outputs": [
    {
     "name": "stdout",
     "output_type": "stream",
     "text": [
      "['ESTONIA', 'FINLAND', 'SWEDEN', 'DENMARK', 'NORWAY', 'ICELAND']\n"
     ]
    }
   ],
   "source": [
    "#Use map to create a new list by changing each country to uppercase in the countries list\n",
    "\n",
    "countries = ['Estonia', 'Finland', 'Sweden', 'Denmark', 'Norway', 'Iceland']\n",
    "def change_to_uppercase(country):\n",
    "    return country.upper()\n",
    "changed_countries = map(change_to_uppercase,countries)\n",
    "print(list(changed_countries))\n",
    "    "
   ]
  },
  {
   "cell_type": "code",
   "execution_count": 12,
   "metadata": {},
   "outputs": [
    {
     "name": "stdout",
     "output_type": "stream",
     "text": [
      "[1, 4, 9, 16, 25, 36, 49, 64, 81, 100]\n"
     ]
    }
   ],
   "source": [
    "#Use map to create a new list by changing each number to its square in the numbers list\n",
    "\n",
    "numbers = [1, 2, 3, 4, 5, 6, 7, 8, 9, 10]\n",
    "def squared_num(number):\n",
    "    return number ** 2\n",
    "sq = map(squared_num,numbers)\n",
    "print(list(sq))"
   ]
  },
  {
   "cell_type": "code",
   "execution_count": 13,
   "metadata": {},
   "outputs": [
    {
     "name": "stdout",
     "output_type": "stream",
     "text": [
      "['ASABENEH', 'LIDIYA', 'ERMIAS', 'ABRAHAM']\n"
     ]
    }
   ],
   "source": [
    "#Use map to change each name to uppercase in the names list\n",
    "\n",
    "names = ['Asabeneh', 'Lidiya', 'Ermias', 'Abraham']\n",
    "def change_name(name):\n",
    "    return name.upper()\n",
    "new_names = map(change_name,names)\n",
    "print(list(new_names))"
   ]
  },
  {
   "cell_type": "code",
   "execution_count": 27,
   "metadata": {},
   "outputs": [
    {
     "name": "stdout",
     "output_type": "stream",
     "text": [
      "['Finland', 'Iceland']\n"
     ]
    }
   ],
   "source": [
    "#Use filter to filter out countries containing 'land'.\n",
    "\n",
    "countries = ['Estonia', 'Finland', 'Sweden', 'Denmark', 'Norway', 'Iceland']\n",
    "def f_country(country):\n",
    "    if 'land' in country:\n",
    "        return True\n",
    "    return False\n",
    "filtered_countries = filter(f_country, countries)\n",
    "print(list(filtered_countries))"
   ]
  },
  {
   "cell_type": "code",
   "execution_count": 28,
   "metadata": {},
   "outputs": [
    {
     "name": "stdout",
     "output_type": "stream",
     "text": [
      "['Sweden', 'Norway']\n"
     ]
    }
   ],
   "source": [
    "#Use filter to filter out countries having exactly six characters\n",
    "\n",
    "countries = ['Estonia', 'Finland', 'Sweden', 'Denmark', 'Norway', 'Iceland']\n",
    "def f_country(country):\n",
    "    if len(country) == 6:\n",
    "        return True\n",
    "    return False\n",
    "filtered_countries = filter(f_country, countries)\n",
    "print(list(filtered_countries))"
   ]
  },
  {
   "cell_type": "code",
   "execution_count": 29,
   "metadata": {},
   "outputs": [
    {
     "name": "stdout",
     "output_type": "stream",
     "text": [
      "['Estonia', 'Finland', 'Sweden', 'Denmark', 'Norway', 'Iceland']\n"
     ]
    }
   ],
   "source": [
    "#Use filter to filter out countries containing six letters and more in the country list\n",
    "\n",
    "countries = ['Estonia', 'Finland', 'Sweden', 'Denmark', 'Norway', 'Iceland']\n",
    "def f_country(country):\n",
    "    if len(country) >=6:\n",
    "        return True\n",
    "    return False\n",
    "filtered_countries = filter(f_country, countries)\n",
    "print(list(filtered_countries))"
   ]
  },
  {
   "cell_type": "code",
   "execution_count": 33,
   "metadata": {},
   "outputs": [
    {
     "name": "stdout",
     "output_type": "stream",
     "text": [
      "['Estonia']\n"
     ]
    }
   ],
   "source": [
    "#Use filter to filter out countries starting with an 'E'\n",
    "\n",
    "countries = ['Estonia', 'Finland', 'Sweden', 'Denmark', 'Norway', 'Iceland']\n",
    "def f_country(country):\n",
    "    if country.startswith('E'):\n",
    "        return True\n",
    "    return False\n",
    "filtered_countries = filter(f_country, countries)\n",
    "print(list(filtered_countries))"
   ]
  },
  {
   "cell_type": "code",
   "execution_count": null,
   "metadata": {},
   "outputs": [],
   "source": [
    "#Declare a function called get_string_lists which takes a list as a parameter and then returns a list containing only string items.\n",
    "\n",
    "def get_string_lists(list):\n",
    "    return list == str\n"
   ]
  },
  {
   "cell_type": "code",
   "execution_count": 35,
   "metadata": {},
   "outputs": [
    {
     "name": "stdout",
     "output_type": "stream",
     "text": [
      "55\n"
     ]
    }
   ],
   "source": [
    "#Use reduce to sum all the numbers in the numbers list.\n",
    "\n",
    "from functools import reduce\n",
    "numbers = [1, 2, 3, 4, 5, 6, 7, 8, 9, 10]\n",
    "def sum_num(a,b):\n",
    "    return a + b\n",
    "sum_all = reduce(sum_num,numbers)\n",
    "print(sum_all)\n"
   ]
  },
  {
   "cell_type": "code",
   "execution_count": 46,
   "metadata": {},
   "outputs": [
    {
     "name": "stdout",
     "output_type": "stream",
     "text": [
      "Estonia, Finland, Sweden, Denmark, Norway and Iceland are North European countries \n"
     ]
    }
   ],
   "source": [
    "#Use reduce to concatenate all the countries and to produce this sentence: Estonia, Finland, Sweden, Denmark, Norway, \n",
    "#and Iceland are north European countries\n",
    "\n",
    "from functools import reduce\n",
    "countries = ['Estonia', 'Finland', 'Sweden', 'Denmark', 'Norway', 'Iceland']\n",
    "c = ','\n",
    "sp = ' '\n",
    "concat = reduce(lambda a,b:a + c + sp + b,countries[:-1])\n",
    "print(f'{concat} and {countries[-1]} are North European countries ')"
   ]
  },
  {
   "cell_type": "code",
   "execution_count": 47,
   "metadata": {},
   "outputs": [
    {
     "name": "stdout",
     "output_type": "stream",
     "text": [
      "['Finland', 'Iceland', 'Ireland', 'Marshall Islands', 'Netherlands', 'New Zealand', 'Poland', 'Solomon Islands', 'Swaziland', 'Switzerland', 'Thailand']\n",
      "['Albania', 'Algeria', 'Armenia', 'Australia', 'Austria', 'Bolivia', 'Bosnia and Herzegovina', 'Bulgaria', 'Cambodia', 'Croatia', 'Equatorial Guinea', 'Estonia', 'Ethiopia', 'Gambia, The', 'Georgia', 'India', 'Indonesia', 'Latvia', 'Liberia', 'Lithuania', 'Macedonia', 'Malaysia', 'Mauritania', 'Micronesia', 'Mongolia', 'Namibia', 'Nigeria', 'Romania', 'Russia', 'Saint Lucia', 'Saudi Arabia', 'Serbia and Montenegro', 'Slovakia', 'Slovenia', 'Somalia', 'Syria', 'Tanzania', 'Tunisia', 'Zambia']\n",
      "[]\n",
      "['Afghanistan', 'Kazakhstan', 'Kyrgyzstan', 'Pakistan', 'Tajikistan', 'Turkmenistan', 'Uzbekistan']\n"
     ]
    }
   ],
   "source": [
    "#Declare a function called categorize_countries that returns a list of countries with some common pattern (you can find the countries list in this repository\n",
    "#as countries.js(eg 'land', 'ia', 'island', 'stan')).\n",
    "\n",
    "from countries import countries\n",
    "def categorize_countries(common_pattern):\n",
    "    lst_countries = []\n",
    "    for country in countries:\n",
    "        if common_pattern.lower() in country:\n",
    "            lst_countries.append(country)\n",
    "           \n",
    "    return lst_countries\n",
    "print(categorize_countries('land'))\n",
    "print(categorize_countries('ia'))\n",
    "print(categorize_countries('island'))\n",
    "print(categorize_countries('stan'))"
   ]
  },
  {
   "cell_type": "code",
   "execution_count": 48,
   "metadata": {},
   "outputs": [
    {
     "name": "stdout",
     "output_type": "stream",
     "text": [
      " Dictionary of number of countries per letter: {'A': 11, 'B': 17, 'C': 18, 'D': 4, 'E': 8, 'F': 3, 'G': 11, 'H': 3, 'I': 8, 'J': 3, 'K': 7, 'L': 9, 'M': 18, 'N': 9, 'O': 1, 'P': 9, 'Q': 1, 'R': 3, 'S': 25, 'T': 11, 'U': 7, 'V': 4, 'Y': 1, 'Z': 2}\n"
     ]
    }
   ],
   "source": [
    "#Create a function returning a dictionary, where keys stand for starting letters of countries and values are the number of country names starting \n",
    "#with that letter.\n",
    "\n",
    "def countries_dict():\n",
    "    dict_countries = {}\n",
    "    for country in countries:\n",
    "        dict_countries[country[0]] = dict_countries.get(country[0],0) + 1\n",
    "    return dict_countries\n",
    "print(f' Dictionary of number of countries per letter: {countries_dict()}')"
   ]
  },
  {
   "cell_type": "code",
   "execution_count": 51,
   "metadata": {},
   "outputs": [
    {
     "name": "stdout",
     "output_type": "stream",
     "text": [
      "['Afghanistan', 'Albania', 'Algeria', 'Andorra', 'Angola', 'Antigua and Barbuda', 'Argentina', 'Armenia', 'Australia', 'Austria']\n"
     ]
    }
   ],
   "source": [
    "#Declare a get_first_ten_countries function - it returns a list of first ten countries from the countries.js list in the data folder.\n",
    "\n",
    "def get_f_ten_c():\n",
    "    return countries[:10]\n",
    "print(get_f_ten_c())"
   ]
  },
  {
   "cell_type": "code",
   "execution_count": 53,
   "metadata": {},
   "outputs": [
    {
     "name": "stdout",
     "output_type": "stream",
     "text": [
      "['United States', 'Uruguay', 'Uzbekistan', 'Vanuatu', 'Vatican City', 'Venezuela', 'Vietnam', 'Yemen', 'Zambia', 'Zimbabwe']\n"
     ]
    }
   ],
   "source": [
    "#Declare a get_last_ten_countries function that returns the last ten countries in the countries list.\n",
    "\n",
    "def last_ten():\n",
    "    return countries[-10:]\n",
    "print(last_ten())"
   ]
  },
  {
   "cell_type": "markdown",
   "metadata": {},
   "source": [
    "# Exercises: Level 3"
   ]
  },
  {
   "cell_type": "code",
   "execution_count": 75,
   "metadata": {},
   "outputs": [
    {
     "data": {
      "text/plain": [
       "[{'name': 'Brazil',\n",
       "  'capital': 'Brasília',\n",
       "  'languages': ['Portuguese'],\n",
       "  'population': 206135893,\n",
       "  'flag': 'https://restcountries.eu/data/bra.svg',\n",
       "  'currency': 'Brazilian real'},\n",
       " {'name': 'Indonesia',\n",
       "  'capital': 'Jakarta',\n",
       "  'languages': ['Indonesian'],\n",
       "  'population': 258705000,\n",
       "  'flag': 'https://restcountries.eu/data/idn.svg',\n",
       "  'currency': 'Indonesian rupiah'},\n",
       " {'name': 'United States of America',\n",
       "  'capital': 'Washington, D.C.',\n",
       "  'languages': ['English'],\n",
       "  'population': 323947000,\n",
       "  'flag': 'https://restcountries.eu/data/usa.svg',\n",
       "  'currency': 'United States dollar'},\n",
       " {'name': 'India',\n",
       "  'capital': 'New Delhi',\n",
       "  'languages': ['Hindi', 'English'],\n",
       "  'population': 1295210000,\n",
       "  'flag': 'https://restcountries.eu/data/ind.svg',\n",
       "  'currency': 'Indian rupee'},\n",
       " {'name': 'China',\n",
       "  'capital': 'Beijing',\n",
       "  'languages': ['Chinese'],\n",
       "  'population': 1377422166,\n",
       "  'flag': 'https://restcountries.eu/data/chn.svg',\n",
       "  'currency': 'Chinese yuan'}]"
      ]
     },
     "execution_count": 75,
     "metadata": {},
     "output_type": "execute_result"
    }
   ],
   "source": [
    "#Use the countries_data.py (https://github.com/Asabeneh/30-Days-Of-Python/blob/master/data/countries-data.py) file and follow the tasks below:\n",
    "#Sort countries by name, by capital, by population\n",
    "#Sort out the ten most spoken languages by location.\n",
    "#Sort out the ten most populated countries.\n",
    "\n",
    "from country_data import countries_data\n",
    "# by name, capital and population\n",
    "\n",
    "# by name\n",
    "sorted_list_name = sorted(countries_data,key=lambda c: c['name'])\n",
    "sorted_list_name[-11:] # checking a subset as the list is too large\n",
    "\n",
    "# by capital\n",
    "sorted_list_cap = sorted(countries_data,key=lambda c:c['capital'])\n",
    "sorted_list_cap[-5:]  # checking subset\n",
    "\n",
    "# by population\n",
    "sorted_list_pop = sorted(countries_data,key=lambda c:c['population'])\n",
    "sorted_list_pop[-5:]\n"
   ]
  },
  {
   "cell_type": "code",
   "execution_count": 76,
   "metadata": {},
   "outputs": [
    {
     "data": {
      "text/plain": [
       "[('English', 91),\n",
       " ('French', 45),\n",
       " ('Arabic', 25),\n",
       " ('Spanish', 24),\n",
       " ('Portuguese', 9),\n",
       " ('Russian', 9),\n",
       " ('Dutch', 8),\n",
       " ('German', 7),\n",
       " ('Chinese', 5),\n",
       " ('Serbian', 4)]"
      ]
     },
     "execution_count": 76,
     "metadata": {},
     "output_type": "execute_result"
    }
   ],
   "source": [
    "#Sort out the ten most spoken languages by location.\n",
    "lang_dict = dict()\n",
    "for i in range(len(countries_data)):\n",
    "    for language in countries_data[i]['languages']:\n",
    "        lang_dict[language] = lang_dict.get(language,0) + 1\n",
    "lang_tpl = sorted(lang_dict.items(),key= lambda y:y[1],reverse=True)\n",
    "lang_tpl[:10]\n",
    "\n",
    "\n"
   ]
  },
  {
   "cell_type": "code",
   "execution_count": 77,
   "metadata": {},
   "outputs": [
    {
     "data": {
      "text/plain": [
       "[{'name': 'China',\n",
       "  'capital': 'Beijing',\n",
       "  'languages': ['Chinese'],\n",
       "  'population': 1377422166,\n",
       "  'flag': 'https://restcountries.eu/data/chn.svg',\n",
       "  'currency': 'Chinese yuan'},\n",
       " {'name': 'India',\n",
       "  'capital': 'New Delhi',\n",
       "  'languages': ['Hindi', 'English'],\n",
       "  'population': 1295210000,\n",
       "  'flag': 'https://restcountries.eu/data/ind.svg',\n",
       "  'currency': 'Indian rupee'},\n",
       " {'name': 'United States of America',\n",
       "  'capital': 'Washington, D.C.',\n",
       "  'languages': ['English'],\n",
       "  'population': 323947000,\n",
       "  'flag': 'https://restcountries.eu/data/usa.svg',\n",
       "  'currency': 'United States dollar'},\n",
       " {'name': 'Indonesia',\n",
       "  'capital': 'Jakarta',\n",
       "  'languages': ['Indonesian'],\n",
       "  'population': 258705000,\n",
       "  'flag': 'https://restcountries.eu/data/idn.svg',\n",
       "  'currency': 'Indonesian rupiah'},\n",
       " {'name': 'Brazil',\n",
       "  'capital': 'Brasília',\n",
       "  'languages': ['Portuguese'],\n",
       "  'population': 206135893,\n",
       "  'flag': 'https://restcountries.eu/data/bra.svg',\n",
       "  'currency': 'Brazilian real'},\n",
       " {'name': 'Pakistan',\n",
       "  'capital': 'Islamabad',\n",
       "  'languages': ['English', 'Urdu'],\n",
       "  'population': 194125062,\n",
       "  'flag': 'https://restcountries.eu/data/pak.svg',\n",
       "  'currency': 'Pakistani rupee'},\n",
       " {'name': 'Nigeria',\n",
       "  'capital': 'Abuja',\n",
       "  'languages': ['English'],\n",
       "  'population': 186988000,\n",
       "  'flag': 'https://restcountries.eu/data/nga.svg',\n",
       "  'currency': 'Nigerian naira'},\n",
       " {'name': 'Bangladesh',\n",
       "  'capital': 'Dhaka',\n",
       "  'languages': ['Bengali'],\n",
       "  'population': 161006790,\n",
       "  'flag': 'https://restcountries.eu/data/bgd.svg',\n",
       "  'currency': 'Bangladeshi taka'},\n",
       " {'name': 'Russian Federation',\n",
       "  'capital': 'Moscow',\n",
       "  'languages': ['Russian'],\n",
       "  'population': 146599183,\n",
       "  'flag': 'https://restcountries.eu/data/rus.svg',\n",
       "  'currency': 'Russian ruble'},\n",
       " {'name': 'Japan',\n",
       "  'capital': 'Tokyo',\n",
       "  'languages': ['Japanese'],\n",
       "  'population': 126960000,\n",
       "  'flag': 'https://restcountries.eu/data/jpn.svg',\n",
       "  'currency': 'Japanese yen'}]"
      ]
     },
     "execution_count": 77,
     "metadata": {},
     "output_type": "execute_result"
    }
   ],
   "source": [
    "\n",
    "pop = sorted(countries_data,key= lambda c:c['population'],reverse=True)\n",
    "top_ten =  pop[:10]\n",
    "top_ten"
   ]
  },
  {
   "cell_type": "code",
   "execution_count": 78,
   "metadata": {},
   "outputs": [
    {
     "data": {
      "text/plain": [
       "['China',\n",
       " 'India',\n",
       " 'United States of America',\n",
       " 'Indonesia',\n",
       " 'Brazil',\n",
       " 'Pakistan',\n",
       " 'Nigeria',\n",
       " 'Bangladesh',\n",
       " 'Russian Federation',\n",
       " 'Japan']"
      ]
     },
     "execution_count": 78,
     "metadata": {},
     "output_type": "execute_result"
    }
   ],
   "source": [
    "#Sort out the ten most populated countries.\n",
    "top_pop_countries = []\n",
    "for i in range(len(top_ten)):\n",
    "    top_pop_countries.append(top_ten[i]['name'])\n",
    "top_pop_countries"
   ]
  }
 ],
 "metadata": {
  "kernelspec": {
   "display_name": "Arewadatascience",
   "language": "python",
   "name": "python3"
  },
  "language_info": {
   "codemirror_mode": {
    "name": "ipython",
    "version": 3
   },
   "file_extension": ".py",
   "mimetype": "text/x-python",
   "name": "python",
   "nbconvert_exporter": "python",
   "pygments_lexer": "ipython3",
   "version": "3.12.0"
  }
 },
 "nbformat": 4,
 "nbformat_minor": 2
}

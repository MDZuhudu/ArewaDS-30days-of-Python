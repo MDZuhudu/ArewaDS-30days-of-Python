{
 "cells": [
  {
   "cell_type": "markdown",
   "metadata": {},
   "source": [
    "\n",
    "# 30 Days of Python\n",
    "### Day1 - Introduction "
   ]
  },
  {
   "cell_type": "code",
   "execution_count": null,
   "metadata": {},
   "outputs": [],
   "source": [
    "print(5*10)     #Multiplication(*)\n",
    "print(50+1000)  #Addition (+)\n",
    "print(5-100)    #Subtraction (-)\n",
    "print(5/2)      #Division (/)\n",
    "print(10%4)     #Modulus(%)\n",
    "print(5//2)     #Floor division operator(//)\n",
    "print(100**5)   #Exponential(**)\n"
   ]
  },
  {
   "cell_type": "markdown",
   "metadata": {},
   "source": [
    "### Checking Data Types"
   ]
  },
  {
   "cell_type": "code",
   "execution_count": null,
   "metadata": {},
   "outputs": [],
   "source": [
    "print(type(500))                                #Integer\n",
    "print(type(0.5))                                #Float\n",
    "print(type(1j))                                 #Complex\n",
    "print(type({1, 2, 3}))                          #Set\n",
    "print(type([10, 20, 30]))                       #List\n",
    "print(type(10 > 5))                             #Boolean\n",
    "print(type(('abba', 'isa', 'sani')))            #Tuple\n",
    "print(type('Muhammad Dahiru Usman'))            #String\n",
    "print(type({\"Sate\" : \"kano\", \"LGA\" : \"Fagge\"})) #Dictionary"
   ]
  }
 ],
 "metadata": {
  "kernelspec": {
   "display_name": "Arewadatascience",
   "language": "python",
   "name": "python3"
  },
  "language_info": {
   "codemirror_mode": {
    "name": "ipython",
    "version": 3
   },
   "file_extension": ".py",
   "mimetype": "text/x-python",
   "name": "python",
   "nbconvert_exporter": "python",
   "pygments_lexer": "ipython3",
   "version": "3.12.0"
  }
 },
 "nbformat": 4,
 "nbformat_minor": 2
}

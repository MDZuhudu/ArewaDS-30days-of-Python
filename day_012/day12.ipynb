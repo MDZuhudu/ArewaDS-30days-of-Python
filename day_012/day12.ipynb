{
 "cells": [
  {
   "cell_type": "markdown",
   "metadata": {},
   "source": [
    "# Day 12 Exercises: Level 1"
   ]
  },
  {
   "cell_type": "code",
   "execution_count": 3,
   "metadata": {},
   "outputs": [
    {
     "name": "stdout",
     "output_type": "stream",
     "text": [
      "QH2s3T\n"
     ]
    }
   ],
   "source": [
    "#Writ a function which generates a six digit/character random_user_id.\n",
    "import string\n",
    "import random\n",
    "x = string.digits + string.ascii_letters\n",
    "id = []\n",
    "id[:0] = x\n",
    "def random_user_id():\n",
    "    y = ''\n",
    "    for i in range(6):\n",
    "        y += random.choice(id)\n",
    "    return y\n",
    "print(random_user_id())"
   ]
  },
  {
   "cell_type": "code",
   "execution_count": 14,
   "metadata": {},
   "outputs": [
    {
     "name": "stdout",
     "output_type": "stream",
     "text": [
      "O2uo5\n",
      "k6fXb\n",
      "evMfj\n",
      "HsN1r\n",
      "aQsLh\n",
      "3LjXP\n",
      "yCN6r\n",
      "HO1bC\n",
      "wjlXq\n",
      "YY7OB\n",
      "\n"
     ]
    }
   ],
   "source": [
    "#Modify the previous task. Declare a function named user_id_gen_by_user. It doesn’t take any parameters but it takes two inputs using input().\n",
    "#One of the inputs is the number of characters and the second input is the number of IDs which are supposed to be generated.\n",
    "\n",
    "def user_id_gen_by_user():\n",
    "    y = int(input('Enter a number characters to be generated'))\n",
    "    x = int(input(\"Enter a number of ID to be generated\"))\n",
    "    for i in range(x):\n",
    "        c = ''.join([random.choice(id) for i in range(y)])\n",
    "        print(c)\n",
    "    return ''\n",
    "print(user_id_gen_by_user())\n",
    "    "
   ]
  },
  {
   "cell_type": "code",
   "execution_count": 15,
   "metadata": {},
   "outputs": [
    {
     "name": "stdout",
     "output_type": "stream",
     "text": [
      "rgb(253,185,134)\n"
     ]
    }
   ],
   "source": [
    "#Write a function named rgb_color_gen. It will generate rgb colors (3 values ranging from 0 to 255 each)\n",
    "\n",
    "def rgb_color_gen():\n",
    "    r = str(random.randint(0, 255))\n",
    "    g = str(random.randint(0, 255))\n",
    "    b = str(random.randint(0, 255))\n",
    "    return \"rgb(\" + r + \",\" + g + \",\" + b + \")\"\n",
    "print(rgb_color_gen())"
   ]
  },
  {
   "cell_type": "markdown",
   "metadata": {},
   "source": [
    "# Exercises: Level 2"
   ]
  },
  {
   "cell_type": "code",
   "execution_count": 29,
   "metadata": {},
   "outputs": [
    {
     "name": "stdout",
     "output_type": "stream",
     "text": [
      "['#8a4758', '#51ae4b', '#fc1db3', '#3b3f6e', '#1097af']\n"
     ]
    }
   ],
   "source": [
    "#Write a function list_of_hexa_colors which returns any number of hexadecimal colors in an array (six hexadecimal numbers written after #. Hexadecimal \n",
    "#numeral system is made out of 16 symbols, 0-9 and first 6 letters of the alphabet, a-f. Check the task 6 for output examples).\n",
    "\n",
    "def list_of_hexa_colors(clr = 0):\n",
    "    if clr == 0:\n",
    "        clr = random.randint(1, 10)\n",
    "    h = \"1,2,3,4,5,6,7,8,9,0,a,b,c,d,e,f\".split(\",\")\n",
    "    hexCodes = []\n",
    "    for _ in range(clr):\n",
    "        hexCodes.append(\"#\" + ''.join([random.choice(h) for _ in range(6)]))\n",
    "    return hexCodes\n",
    "print(list_of_hexa_colors(clr = 0))"
   ]
  },
  {
   "cell_type": "code",
   "execution_count": 32,
   "metadata": {},
   "outputs": [
    {
     "name": "stdout",
     "output_type": "stream",
     "text": [
      "None\n"
     ]
    }
   ],
   "source": [
    "#Write a function list_of_rgb_colors which returns any number of RGB colors in an array\n",
    "\n",
    "def list_of_rgb_colors(clr = 0):\n",
    "   def rgb_color_gen():\n",
    "    r = str(random.randint(0, 255))\n",
    "    g = str(random.randint(0, 255))\n",
    "    b =str(random.randint(0, 255))\n",
    "    return \"rgb(\" + r + \",\" + g + \",\" + b + \")\"\n",
    "    if clr == 0:\n",
    "        clr = random.randint(1, 10)\n",
    "    rgbs = []\n",
    "    for _ in range(clr):\n",
    "        rgbs.append(rgb_color_gen())\n",
    "    return rgbs\n",
    "print(list_of_rgb_colors(clr = 0))"
   ]
  },
  {
   "cell_type": "code",
   "execution_count": 33,
   "metadata": {},
   "outputs": [
    {
     "name": "stdout",
     "output_type": "stream",
     "text": [
      "['#bb8ac8']\n"
     ]
    }
   ],
   "source": [
    "#Write a function generate_colors which can generate any number of hexa or rgb colors.\n",
    "\n",
    "def generate_colors(col_type,many):\n",
    "    if col_type == 'hexa':\n",
    "        return list_of_hexa_colors(many)\n",
    "    elif col_type == 'rgb':\n",
    "        return list_of_rgb_colors(many)\n",
    "    else:\n",
    "        return \"Invalid Input\"\n",
    "print(generate_colors(\"hexa\",0))"
   ]
  },
  {
   "cell_type": "code",
   "execution_count": 43,
   "metadata": {},
   "outputs": [
    {
     "name": "stdout",
     "output_type": "stream",
     "text": [
      "list[7, 2, 4, 9, 5]\n"
     ]
    }
   ],
   "source": [
    "#Call your function shuffle_list, it takes a list as a parameter and it returns a shuffled list\n",
    "\n",
    "import random\n",
    "def shuffle_list(list):\n",
    "    return random.sample(list, (list))\n",
    "print(list[7,2,4,9,5])"
   ]
  },
  {
   "cell_type": "code",
   "execution_count": 53,
   "metadata": {},
   "outputs": [
    {
     "name": "stdout",
     "output_type": "stream",
     "text": [
      "[2, 9, 1, 0, 5, 4, 6]\n"
     ]
    }
   ],
   "source": [
    "#Write a function which returns an array of seven random numbers in a range of 0-9. All the numbers must be unique.\n",
    "\n",
    "def randm():\n",
    "    array = []\n",
    "    length = 0\n",
    "    while length <= 6:\n",
    "        num = random.randint(0, 9)\n",
    "        if num not in array:\n",
    "            array.append(num)\n",
    "            length = len(array)\n",
    "    return array\n",
    "print(randm())"
   ]
  }
 ],
 "metadata": {
  "kernelspec": {
   "display_name": "Arewadatascience",
   "language": "python",
   "name": "python3"
  },
  "language_info": {
   "codemirror_mode": {
    "name": "ipython",
    "version": 3
   },
   "file_extension": ".py",
   "mimetype": "text/x-python",
   "name": "python",
   "nbconvert_exporter": "python",
   "pygments_lexer": "ipython3",
   "version": "3.12.0"
  }
 },
 "nbformat": 4,
 "nbformat_minor": 2
}

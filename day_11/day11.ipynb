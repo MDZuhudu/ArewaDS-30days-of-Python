{
 "cells": [
  {
   "cell_type": "code",
   "execution_count": 4,
   "metadata": {},
   "outputs": [
    {
     "data": {
      "text/plain": [
       "5"
      ]
     },
     "execution_count": 4,
     "metadata": {},
     "output_type": "execute_result"
    }
   ],
   "source": [
    "def add_two_numbers():\n",
    "    a = 2\n",
    "    b = 3\n",
    "    total = a + b\n",
    "    return total\n",
    "    print(total)\n",
    "add_two_numbers()"
   ]
  },
  {
   "cell_type": "code",
   "execution_count": 6,
   "metadata": {},
   "outputs": [
    {
     "data": {
      "text/plain": [
       "78.5"
      ]
     },
     "execution_count": 6,
     "metadata": {},
     "output_type": "execute_result"
    }
   ],
   "source": [
    "def area_of_circle(r):\n",
    "    pi = 3.14\n",
    "    area = pi * r * r\n",
    "    return area\n",
    "    print(area)\n",
    "area_of_circle(5)"
   ]
  },
  {
   "cell_type": "code",
   "execution_count": 30,
   "metadata": {},
   "outputs": [
    {
     "name": "stdout",
     "output_type": "stream",
     "text": [
      "23\n"
     ]
    }
   ],
   "source": [
    "#Write a function called add_all_nums which takes arbitrary number of arguments and sums all the arguments. Check if all the list items are number types. \n",
    "#If not do give a reasonable feedback.\n",
    "\n",
    "def add_all_nums(*nums):\n",
    "    total = 0\n",
    "    for num in nums:\n",
    "            if type(num) == int :\n",
    "                total += int(num)\n",
    "            else : print('They are not numbers') \n",
    "    return total\n",
    "print(add_all_nums(8,5,10))    \n",
    "\n",
    "   "
   ]
  },
  {
   "cell_type": "code",
   "execution_count": 31,
   "metadata": {},
   "outputs": [
    {
     "name": "stdout",
     "output_type": "stream",
     "text": [
      "The Temp in Fahrenheit is :\n",
      "122.0\n"
     ]
    }
   ],
   "source": [
    "#Temperature in °C can be converted to °F using this formula: °F = (°C x 9/5) + 32. Write a function which converts °C to °F, convert_celsius_to-fahrenheit.\n",
    "\n",
    "def conversion(f):\n",
    "    return (f * 9/5) + 32\n",
    "cel = int(input('Enter  temp in Celcius'))\n",
    "print('The Temp in Fahrenheit is :')\n",
    "print (conversion(cel))"
   ]
  },
  {
   "cell_type": "code",
   "execution_count": 41,
   "metadata": {},
   "outputs": [
    {
     "name": "stdout",
     "output_type": "stream",
     "text": [
      "Spring\n"
     ]
    }
   ],
   "source": [
    "#Write a function called check-season, it takes a month parameter and returns the season: Autumn, Winter, Spring or Summer.\n",
    "def check_season (month):\n",
    "    if month in ['September', 'October', 'Novemver']:\n",
    "        return 'Autumn'\n",
    "    if month in ['December', 'January', 'February']:\n",
    "        return 'Winter'\n",
    "    if month in ['March', 'April', 'May']:\n",
    "        return 'Spring'\n",
    "    if month in ['June', 'July', 'August']:\n",
    "        return 'Summer'\n",
    "    else : 'Invalid Entry'\n",
    "print(check_season(input('Enter A Month: ')))"
   ]
  },
  {
   "cell_type": "code",
   "execution_count": 50,
   "metadata": {},
   "outputs": [
    {
     "name": "stdout",
     "output_type": "stream",
     "text": [
      "2.0\n"
     ]
    }
   ],
   "source": [
    "#Write a function called calculate_slope which return the slope of a linear equation\n",
    "\n",
    "def calculate_slope(x1, x2, y1, y2):\n",
    "    return (y2 - y1)/(x2 - x1)\n",
    "x1 = (int(input('Value of X1')))\n",
    "x2 = (int(input('Value of X2')))\n",
    "y1 = (int(input('Value of Y1')))\n",
    "y2 = (int(input('Value of Y2')))\n",
    "print(calculate_slope(x1,x2,y1,y2))"
   ]
  },
  {
   "cell_type": "code",
   "execution_count": 58,
   "metadata": {},
   "outputs": [
    {
     "name": "stdout",
     "output_type": "stream",
     "text": [
      "The roots are:\n",
      "(-0.5-0.8660254037844387j)\n",
      "(-0.5+0.8660254037844387j)\n"
     ]
    }
   ],
   "source": [
    "#Quadratic equation is calculated as follows: ax² + bx + c = 0. Write a function which calculates solution set of a quadratic equation, solve_quadratic_eqn.\n",
    "\n",
    "import cmath\n",
    "a = (float(input('Value of A')))\n",
    "b = (float(input('Value of B')))\n",
    "c = (float(input('Value of C')))\n",
    "d = (b**2) - (4 * a* c)\n",
    "solution = (-b -cmath.sqrt(d))/(2 * a)\n",
    "solution2 = (-b +cmath.sqrt(d))/(2 * a)\n",
    "print('The roots are:')\n",
    "print(solution)\n",
    "print(solution2)"
   ]
  },
  {
   "cell_type": "code",
   "execution_count": 19,
   "metadata": {},
   "outputs": [
    {
     "name": "stdout",
     "output_type": "stream",
     "text": [
      "1\n",
      "2\n",
      "3\n",
      "4\n",
      "5\n",
      "None\n"
     ]
    }
   ],
   "source": [
    "#Declare a function named print_list. It takes a list as a parameter and it prints out each element of the list.\n",
    "\n",
    "def print_list(list_elem = []):\n",
    "    for a in list_elem:\n",
    "        print(a)\n",
    "elements = [1,2,3,4,5]\n",
    "print(print_list(elements))"
   ]
  },
  {
   "cell_type": "code",
   "execution_count": 18,
   "metadata": {},
   "outputs": [
    {
     "name": "stdout",
     "output_type": "stream",
     "text": [
      "5\n",
      "4\n",
      "3\n",
      "2\n",
      "1\n",
      "None\n"
     ]
    }
   ],
   "source": [
    "#Declare a function named reverse_list. It takes an array as a parameter and it returns the reverse of the array (use loops).\n",
    "def reverse_list(array = []):\n",
    "    for i in array [::-1]:\n",
    "        print(i)\n",
    "array_num = [1,2,3,4,5]\n",
    "print(reverse_list(array_num))"
   ]
  },
  {
   "cell_type": "code",
   "execution_count": 43,
   "metadata": {},
   "outputs": [
    {
     "name": "stdout",
     "output_type": "stream",
     "text": [
      "['APPLE', 'BANANA', 'CARROT']\n"
     ]
    }
   ],
   "source": [
    "#Declare a function named capitalize_list_items. It takes a list as a parameter and it returns a capitalized list of items\n",
    "\n",
    "def capitalize_list(par):\n",
    "    list = []\n",
    "    for i  in par :\n",
    "        list.append(i.upper())\n",
    "    return list\n",
    "print(capitalize_list(['apple','banana','carrot']))\n",
    "   "
   ]
  },
  {
   "cell_type": "code",
   "execution_count": 45,
   "metadata": {},
   "outputs": [
    {
     "name": "stdout",
     "output_type": "stream",
     "text": [
      "['Java', 'C++', 'PHP', 'Python']\n"
     ]
    }
   ],
   "source": [
    "#Declare a function named add_item. It takes a list and an item parameters. It returns a list with the item added at the end\n",
    "\n",
    "def add_item(list, item):\n",
    "    i = list\n",
    "    i.append(item)\n",
    "    return i\n",
    "print(add_item(['Java', 'C++', 'PHP'],'Python'))"
   ]
  },
  {
   "cell_type": "code",
   "execution_count": 47,
   "metadata": {},
   "outputs": [
    {
     "name": "stdout",
     "output_type": "stream",
     "text": [
      "['banana', 'mango', 'carrot']\n"
     ]
    }
   ],
   "source": [
    "#Declare a function named remove_item. It takes a list and an item parameters. It returns a list with the item removed from it.\n",
    "\n",
    "def remove_item(list, item):\n",
    "    i = list\n",
    "    i.remove(item)\n",
    "    return i\n",
    "print(remove_item(['banana','apple','mango','carrot'],'apple'))\n"
   ]
  },
  {
   "cell_type": "code",
   "execution_count": 62,
   "metadata": {},
   "outputs": [
    {
     "name": "stdout",
     "output_type": "stream",
     "text": [
      "15\n",
      "55\n",
      "5050\n"
     ]
    }
   ],
   "source": [
    "#Declare a function named sum_of_numbers. It takes a number parameter and it adds all the numbers in that range.\n",
    "\n",
    "def sum_of_numbers(number):\n",
    "    sum = 0\n",
    "    for i in range(number):\n",
    "        sum=sum+i+1\n",
    "    return sum\n",
    "print(sum_of_numbers(5))    \n",
    "print(sum_of_numbers(10)) \n",
    "print(sum_of_numbers(100)) "
   ]
  },
  {
   "cell_type": "code",
   "execution_count": 74,
   "metadata": {},
   "outputs": [
    {
     "name": "stdout",
     "output_type": "stream",
     "text": [
      "the sum of odd number in the range of 20 is:  100\n"
     ]
    }
   ],
   "source": [
    "#Declare a function named sum_of_odds. It takes a number parameter and it adds all the odd numbers in that range.\n",
    "\n",
    "def sum_of_odds(number):\n",
    "    sum = 0\n",
    "    for i in range(number):\n",
    "        if i%2==1:\n",
    "            sum=sum+i\n",
    "    print(f'the sum of odd number in the range of {number} is: ', sum)\n",
    "sum_of_odds(20)"
   ]
  },
  {
   "cell_type": "code",
   "execution_count": 75,
   "metadata": {},
   "outputs": [
    {
     "name": "stdout",
     "output_type": "stream",
     "text": [
      "the sum of even number in the range of 20 is:  90\n"
     ]
    }
   ],
   "source": [
    "\n",
    "#Declare a function named sum_of_even. It takes a number parameter and it adds all the even numbers in that - range\n",
    "\n",
    "def sum_of_even(number):\n",
    "    sum = 0\n",
    "    for i in range(number):\n",
    "        if i%2==0:\n",
    "            sum=sum+i\n",
    "    print(f'the sum of even number in the range of {number} is: ', sum)\n",
    "sum_of_even(20)"
   ]
  },
  {
   "cell_type": "markdown",
   "metadata": {},
   "source": [
    "# Exercises: Level 2"
   ]
  },
  {
   "cell_type": "code",
   "execution_count": 79,
   "metadata": {},
   "outputs": [
    {
     "name": "stdout",
     "output_type": "stream",
     "text": [
      "the even numers are: 11 \n",
      " the odd numbers are 10\n"
     ]
    }
   ],
   "source": [
    "#Declare a function named evens_and_odds . It takes a positive integer as parameter and it counts number of evens and odds in the number.\n",
    "\n",
    "def evens_and_odds(int):\n",
    "    even_num = 0\n",
    "    odd_num = 0\n",
    "    for i in range(int +1):\n",
    "        if i%2==0:\n",
    "            even_num += 1\n",
    "        else:\n",
    "            odd_num += 1\n",
    "    return f'the even numers are: {even_num} \\n the odd numbers are {odd_num}'\n",
    "print(evens_and_odds(20))"
   ]
  },
  {
   "cell_type": "code",
   "execution_count": 80,
   "metadata": {},
   "outputs": [
    {
     "name": "stdout",
     "output_type": "stream",
     "text": [
      "120\n"
     ]
    }
   ],
   "source": [
    "#Call your function factorial, it takes a whole number as a parameter and it return a factorial of the number\n",
    "\n",
    "def factorial(f):\n",
    "    num = 1\n",
    "    for  i in range(1, f+1):\n",
    "        num *= i\n",
    "    return num\n",
    "print(factorial(5))"
   ]
  },
  {
   "cell_type": "code",
   "execution_count": 88,
   "metadata": {},
   "outputs": [
    {
     "name": "stdout",
     "output_type": "stream",
     "text": [
      "empty\n"
     ]
    }
   ],
   "source": [
    "#Call your function is_empty, it takes a parameter and it checks if it is empty or not\n",
    "\n",
    "def is_empty(par):\n",
    "    if len(par)==0:\n",
    "        param = 'empty'\n",
    "    else:\n",
    "        param = '! empty'\n",
    "    return param\n",
    "print(is_empty([]))\n",
    "        "
   ]
  },
  {
   "cell_type": "code",
   "execution_count": 89,
   "metadata": {},
   "outputs": [
    {
     "name": "stdout",
     "output_type": "stream",
     "text": [
      "3.0\n"
     ]
    }
   ],
   "source": [
    "#Write different functions which take lists. They should calculate_mean, calculate_median, calculate_mode, calculate_range, calculate_variance, \n",
    "# calculate_std (standard deviation).\n",
    "\n",
    "def calculate_mean(par):\n",
    "    sum = 0\n",
    "    for i in range(len(par)):\n",
    "        sum += par[i]\n",
    "    mean = sum/len(par)\n",
    "    return mean\n",
    "print(calculate_mean([1,2,3,4,5]))"
   ]
  },
  {
   "cell_type": "code",
   "execution_count": 90,
   "metadata": {},
   "outputs": [
    {
     "name": "stdout",
     "output_type": "stream",
     "text": [
      "3\n"
     ]
    }
   ],
   "source": [
    "def calculate_median(para):\n",
    "    para_length = len(para)\n",
    "    para.sort()\n",
    "    if para_length % 2 == 0 :\n",
    "        median = (para[para_length//2] + para[para_length//2 - 1])/2\n",
    "    else:\n",
    "        median = para[para_length//2]\n",
    "    return median\n",
    "print(calculate_median([1,2,3,4,5]))    "
   ]
  },
  {
   "cell_type": "code",
   "execution_count": 105,
   "metadata": {},
   "outputs": [
    {
     "name": "stdout",
     "output_type": "stream",
     "text": [
      "[1]\n"
     ]
    }
   ],
   "source": [
    "def calculate_mode(param):\n",
    "    a = {}\n",
    "    for i in param:\n",
    "        a[i] = a.get(i,0) + 1\n",
    "    return [i for i,j in a.items() if j == max(a.values())]\n",
    "print(calculate_mode([1,2,3,4,5,6,1]))"
   ]
  },
  {
   "cell_type": "code",
   "execution_count": 107,
   "metadata": {},
   "outputs": [
    {
     "name": "stdout",
     "output_type": "stream",
     "text": [
      "8\n"
     ]
    }
   ],
   "source": [
    "def calculate_range(parame):\n",
    "    parame.sort()\n",
    "    rang = parame[len(parame) - 1] - parame[0]\n",
    "    return rang\n",
    "print(calculate_range([1,2,3,7,8,9]))"
   ]
  },
  {
   "cell_type": "code",
   "execution_count": 120,
   "metadata": {},
   "outputs": [
    {
     "name": "stdout",
     "output_type": "stream",
     "text": [
      "9.166666666666666\n"
     ]
    }
   ],
   "source": [
    "def calculate_variance(parr):\n",
    "    summ = 0\n",
    "    sum_of_diff = 0\n",
    "    for i in range(len(parr)):\n",
    "        summ += parr[i]\n",
    "        men = summ/len(parr)\n",
    "    for i in range(len(parr)):\n",
    "        sum_of_diff += (parr[i] - men) ** 2\n",
    "    variance = float(sum_of_diff / (len(parr) - 1))\n",
    "    return variance\n",
    "print(calculate_variance([1,2,3,4,5,6,7,8,9,10]))"
   ]
  },
  {
   "cell_type": "code",
   "execution_count": 130,
   "metadata": {},
   "outputs": [
    {
     "name": "stdout",
     "output_type": "stream",
     "text": [
      "5.232112384114087\n"
     ]
    }
   ],
   "source": [
    "def calculate_std(parrr):\n",
    "    sm = 0\n",
    "    sum_of_df =0\n",
    "    for i in range(len(parrr)):\n",
    "        sm = parrr[i]\n",
    "        mn = sm/len(parrr)\n",
    "    for i in range(len(parrr)):\n",
    "        sum_of_df += ((parrr[i] - mn) ** 2)\n",
    "    stdv = float(sum_of_df/(len(parrr) - 1)) ** (1/2)\n",
    "    return stdv\n",
    "print(calculate_std([1,2,3,4,5,6,7,8,9]))"
   ]
  },
  {
   "cell_type": "markdown",
   "metadata": {},
   "source": [
    "# Exercises: Level 3"
   ]
  },
  {
   "cell_type": "code",
   "execution_count": 140,
   "metadata": {},
   "outputs": [
    {
     "name": "stdout",
     "output_type": "stream",
     "text": [
      "9 is not a prime\n"
     ]
    }
   ],
   "source": [
    "import math\n",
    "def is_prime(number):\n",
    "    if number <= 1:\n",
    "     return f'{number} is not a prime'\n",
    "    x = math.floor(math.sqrt(number))\n",
    "    for i in range(2,1 + x):\n",
    "        if number %i==0:\n",
    "            return f'{number} is not a prime'\n",
    "    return f'{number} is a prime'\n",
    "print(is_prime(9))\n",
    "   \n",
    "    "
   ]
  },
  {
   "cell_type": "code",
   "execution_count": null,
   "metadata": {},
   "outputs": [],
   "source": [
    "# Write a functions which checks if all items are unique in the list.\n",
    "\n",
    "def checking_uni_item(list):\n",
    "    return len(set(list) == len (list))\n",
    "print(checking_uni_item(['HP', 'Apple','Dell','Toshiba','Mac']))"
   ]
  },
  {
   "cell_type": "code",
   "execution_count": 146,
   "metadata": {},
   "outputs": [
    {
     "name": "stdout",
     "output_type": "stream",
     "text": [
      "False\n"
     ]
    }
   ],
   "source": [
    "#Write a function which checks if all the items of the list are of the same data type.\n",
    "\n",
    "def check_D_type(list):\n",
    "    a = iter(list)\n",
    "    t = type(next(a))\n",
    "    return t if all((type(x) is t) for x in a) else False\n",
    "print(check_D_type([1,2,3,'name', 'gender']))"
   ]
  },
  {
   "cell_type": "code",
   "execution_count": 157,
   "metadata": {},
   "outputs": [
    {
     "name": "stdout",
     "output_type": "stream",
     "text": [
      "Checking\n"
     ]
    }
   ],
   "source": [
    "#Write a function which check if provided variable is a valid python variable\n",
    "\n",
    "def  variable_check(variable):\n",
    "    if variable == True:\n",
    "        return variable\n",
    "    return 'Checking'\n",
    "print(variable_check(variable='abba'))"
   ]
  }
 ],
 "metadata": {
  "kernelspec": {
   "display_name": "Arewadatascience",
   "language": "python",
   "name": "python3"
  },
  "language_info": {
   "codemirror_mode": {
    "name": "ipython",
    "version": 3
   },
   "file_extension": ".py",
   "mimetype": "text/x-python",
   "name": "python",
   "nbconvert_exporter": "python",
   "pygments_lexer": "ipython3",
   "version": "3.12.0"
  }
 },
 "nbformat": 4,
 "nbformat_minor": 2
}

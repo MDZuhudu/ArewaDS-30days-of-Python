{
 "cells": [
  {
   "cell_type": "code",
   "execution_count": 1,
   "metadata": {},
   "outputs": [
    {
     "name": "stdout",
     "output_type": "stream",
     "text": [
      "I am learning about functions in this chapter.\n"
     ]
    }
   ],
   "source": [
    "#8.1\n",
    "def display_message():\n",
    "    print(\"I am learning about functions in this chapter.\")\n",
    "\n",
    "display_message()\n"
   ]
  },
  {
   "cell_type": "code",
   "execution_count": 2,
   "metadata": {},
   "outputs": [
    {
     "name": "stdout",
     "output_type": "stream",
     "text": [
      "One of my favorite books is Alice in Wonderland\n"
     ]
    }
   ],
   "source": [
    "#8.2\n",
    "def favorite_book(title):\n",
    "    print(\"One of my favorite books is\", title)\n",
    "\n",
    "favorite_book(\"Alice in Wonderland\")\n"
   ]
  },
  {
   "cell_type": "code",
   "execution_count": 3,
   "metadata": {},
   "outputs": [
    {
     "name": "stdout",
     "output_type": "stream",
     "text": [
      "The shirt size is M and the message printed on it is: Hello, World!\n",
      "The shirt size is L and the message printed on it is: I love Python!\n"
     ]
    }
   ],
   "source": [
    "#8.3\n",
    "def make_shirt(size, message):\n",
    "    print(\"The shirt size is\", size, \"and the message printed on it is:\", message)\n",
    "\n",
    "make_shirt(\"M\", \"Hello, World!\")\n",
    "make_shirt(size=\"L\", message=\"I love Python!\")\n"
   ]
  },
  {
   "cell_type": "code",
   "execution_count": 7,
   "metadata": {},
   "outputs": [
    {
     "name": "stdout",
     "output_type": "stream",
     "text": [
      "The shirt size is L and the message printed on it is: I love Python\n",
      "The shirt size is M and the message printed on it is: I love Python\n",
      "The shirt size is S and the message printed on it is: Muhammad\n"
     ]
    }
   ],
   "source": [
    "#8.4\n",
    "def make_shirt(size=\"L\", message=\"I love Python\"):\n",
    "    print(\"The shirt size is\", size, \"and the message printed on it is:\", message)\n",
    "\n",
    "make_shirt()  # Large shirt with default message\n",
    "make_shirt(\"M\")  # Medium shirt with default message\n",
    "make_shirt(\"S\", \"Muhammad\")  # Small shirt with custom message\n"
   ]
  },
  {
   "cell_type": "code",
   "execution_count": 6,
   "metadata": {},
   "outputs": [
    {
     "name": "stdout",
     "output_type": "stream",
     "text": [
      "Reykjavik is in Iceland\n",
      "Kano is in Nigeria\n",
      "New York is in USA\n"
     ]
    }
   ],
   "source": [
    "#8.5\n",
    "def describe_city(city, country=\"USA\"):\n",
    "    print(city, \"is in\", country)\n",
    "\n",
    "describe_city(\"Reykjavik\", \"Iceland\")\n",
    "describe_city(\"Kano\", \"Nigeria\")\n",
    "describe_city(\"New York\")\n"
   ]
  },
  {
   "cell_type": "code",
   "execution_count": 9,
   "metadata": {},
   "outputs": [
    {
     "name": "stdout",
     "output_type": "stream",
     "text": [
      "Accra, Ghana\n",
      "Kano, Nigeria\n",
      "Niamey, Niger\n"
     ]
    }
   ],
   "source": [
    "#8.6\n",
    "def city_country(city, country):\n",
    "    return f\"{city}, {country}\"\n",
    "\n",
    "print(city_country(\"Accra\", \"Ghana\"))\n",
    "print(city_country(\"Kano\", \"Nigeria\"))\n",
    "print(city_country(\"Niamey\", \"Niger\"))\n"
   ]
  },
  {
   "cell_type": "code",
   "execution_count": 12,
   "metadata": {},
   "outputs": [
    {
     "name": "stdout",
     "output_type": "stream",
     "text": [
      "{'artist': 'Alan Waka', 'title': 'Bakandamiyah'}\n",
      "{'artist': 'Davido', 'title': 'winter', 'num_songs': 5}\n",
      "{'artist': 'Hamisu Breaker', 'title': 'Zafin so', 'num_songs': 10}\n"
     ]
    }
   ],
   "source": [
    "#8.7\n",
    "def make_album(artist, title, num_songs=None):\n",
    "    album = {'artist': artist, 'title': title}\n",
    "    if num_songs:\n",
    "        album['num_songs'] = num_songs\n",
    "    return album\n",
    "\n",
    "album1 = make_album('Alan Waka', 'Bakandamiyah',)\n",
    "album2 = make_album('Davido', 'winter', 5)\n",
    "album3 = make_album('Hamisu Breaker', 'Zafin so', 10)\n",
    "\n",
    "print(album1)\n",
    "print(album2)\n",
    "print(album3)\n"
   ]
  },
  {
   "cell_type": "code",
   "execution_count": 13,
   "metadata": {},
   "outputs": [
    {
     "name": "stdout",
     "output_type": "stream",
     "text": [
      "{'artist': 'davido', 'title': 'winter'}\n",
      "{'artist': 'ala', 'title': 'bakanda'}\n"
     ]
    }
   ],
   "source": [
    "#8.8\n",
    "while True:\n",
    "    artist = input(\"Enter the album's artist (or 'quit' to exit): \")\n",
    "    if artist == 'quit':\n",
    "        break\n",
    "    title = input(\"Enter the album's title: \")\n",
    "    album = make_album(artist, title)\n",
    "    print(album)\n"
   ]
  },
  {
   "cell_type": "code",
   "execution_count": 2,
   "metadata": {},
   "outputs": [
    {
     "name": "stdout",
     "output_type": "stream",
     "text": [
      "Hello\n",
      "Hope You're Having a Good Day\n",
      "Wish you sucees\n"
     ]
    }
   ],
   "source": [
    "#8.9\n",
    "def show_messages(messages):\n",
    "    for message in messages:\n",
    "        print(message)\n",
    "\n",
    "messages = [\"Hello\", \"Hope You're Having a Good Day\", \"Wish you sucees\"]\n",
    "show_messages(messages)\n"
   ]
  },
  {
   "cell_type": "code",
   "execution_count": 3,
   "metadata": {},
   "outputs": [
    {
     "name": "stdout",
     "output_type": "stream",
     "text": [
      "Hello\n",
      "How are you?\n",
      "Goodbye\n",
      "Original messages: ['Hello', 'How are you?', 'Goodbye']\n",
      "Sent messages: ['Hello', 'How are you?', 'Goodbye']\n"
     ]
    }
   ],
   "source": [
    "#8.10\n",
    "def send_messages(messages):\n",
    "    sent_messages = []\n",
    "    for message in messages:\n",
    "        print(message)\n",
    "        sent_messages.append(message)\n",
    "    return sent_messages\n",
    "\n",
    "messages = [\"Hello\", \"How are you?\", \"Goodbye\"]\n",
    "sent_messages = send_messages(messages)\n",
    "\n",
    "print(\"Original messages:\", messages)\n",
    "print(\"Sent messages:\", sent_messages)\n"
   ]
  },
  {
   "cell_type": "code",
   "execution_count": 5,
   "metadata": {},
   "outputs": [
    {
     "name": "stdout",
     "output_type": "stream",
     "text": [
      "Hello\n",
      "Muhammad\n",
      "How are you?\n",
      "Original messages: ['Hello', 'Muhammad', 'How are you?']\n",
      "Sent messages: ['Hello', 'Muhammad', 'How are you?']\n"
     ]
    }
   ],
   "source": [
    "#8.11\n",
    "messages = [\"Hello\", \"Muhammad\", \"How are you?\",]\n",
    "sent_messages = send_messages(messages[:])  # Pass a copy of the list using slicing\n",
    "\n",
    "print(\"Original messages:\", messages)\n",
    "print(\"Sent messages:\", sent_messages)\n"
   ]
  },
  {
   "cell_type": "code",
   "execution_count": 6,
   "metadata": {},
   "outputs": [
    {
     "name": "stdout",
     "output_type": "stream",
     "text": [
      "Sandwich order summary:\n",
      "- Burger\n",
      "- spring role\n",
      "Enjoy your sandwich!\n",
      "Sandwich order summary:\n",
      "- Shawarma\n",
      "- Pizaa\n",
      "- Burger\n",
      "Enjoy your sandwich!\n",
      "Sandwich order summary:\n",
      "- Samosa\n",
      "- cake\n",
      "- shawarma\n",
      "- meat pie\n",
      "Enjoy your sandwich!\n"
     ]
    }
   ],
   "source": [
    "#8.12\n",
    "def make_sandwich(*items):\n",
    "    print(\"Sandwich order summary:\")\n",
    "    for item in items:\n",
    "        print(\"- \" + item)\n",
    "    print(\"Enjoy your sandwich!\")\n",
    "\n",
    "make_sandwich(\"Burger\", \"spring role\")\n",
    "make_sandwich(\"Shawarma\", \"Pizaa\", \"Burger\")\n",
    "make_sandwich(\"Samosa\", \"cake\", \"shawarma\", \"meat pie\")\n"
   ]
  },
  {
   "cell_type": "code",
   "execution_count": 2,
   "metadata": {},
   "outputs": [
    {
     "name": "stdout",
     "output_type": "stream",
     "text": [
      "{'occupation': 'Self Employed', 'age': 28, 'location': 'Kano', 'first_name': 'Muhammad', 'last_name': 'Dahiru'}\n"
     ]
    }
   ],
   "source": [
    "#8.13\n",
    "from user_profile import build_profile\n",
    "\n",
    "profile = build_profile(\"Muhammad\", \"Dahiru\", occupation=\"Self Employed\", age=28, location=\"Kano\")\n",
    "\n",
    "print(profile)\n"
   ]
  },
  {
   "cell_type": "code",
   "execution_count": 7,
   "metadata": {},
   "outputs": [
    {
     "name": "stdout",
     "output_type": "stream",
     "text": [
      "{'manufacturer': 'Marcedez', 'model': 'Benz', 'color': 'Golden', 'year': 2023}\n"
     ]
    }
   ],
   "source": [
    "#8.14\n",
    "def make_car(manufacturer, model, **args):\n",
    "    car = {'manufacturer': manufacturer, 'model': model}\n",
    "    car.update(args)\n",
    "    return car\n",
    "\n",
    "car = make_car('Marcedez', 'Benz', color='Golden', year=2023)\n",
    "print(car)\n"
   ]
  },
  {
   "cell_type": "code",
   "execution_count": null,
   "metadata": {},
   "outputs": [],
   "source": [
    "#8.16\n",
    "import user_profile\n",
    "user_profile.build_profile(\"Muhammad\", \"Dahiru\", occupation=\"Self Employed\", age=28, location=\"Kano\")\n",
    "\n",
    "from user_profile import build_profile\n",
    "build_profile(\"Muhammad\", \"Dahiru\", occupation=\"Self Employed\", age=28, location=\"Kano\")\n",
    "\n",
    "from user_profile import build_profile as bp\n",
    "bp(\"Muhammad\", \"Dahiru\", occupation=\"Self Employed\", age=28, location=\"Kano\")\n",
    "\n",
    "import user_profile as up\n",
    "up.build_profile(\"Muhammad\", \"Dahiru\", occupation=\"Self Employed\", age=28, location=\"Kano\")\n",
    "\n",
    "from user_profile import *\n",
    "build_profile(\"Muhammad\", \"Dahiru\", occupation=\"Self Employed\", age=28, location=\"Kano\")\n"
   ]
  },
  {
   "cell_type": "code",
   "execution_count": null,
   "metadata": {},
   "outputs": [],
   "source": [
    "#8.17\n",
    "# Function 1: greet_user\n",
    "def greet_user(name):\n",
    "    \"\"\"\n",
    "    Greets the user with a personalized message.\n",
    "    \n",
    "    Parameters:\n",
    "    - name (str): The name of the user.\n",
    "    \"\"\"\n",
    "    message = f\"Hello, {name}! Welcome.\"\n",
    "    print(message)\n",
    "\n",
    "\n",
    "# Function 2: calculate_average\n",
    "def calculate_average(numbers):\n",
    "    \"\"\"\n",
    "    Calculates the average of a list of numbers.\n",
    "    \n",
    "    Parameters:\n",
    "    - numbers (list): A list of numbers.\n",
    "    \n",
    "    Returns:\n",
    "    - float: The average of the numbers.\n",
    "    \"\"\"\n",
    "    total = sum(numbers)\n",
    "    average = total / len(numbers)\n",
    "    return average\n",
    "\n",
    "\n",
    "# Function 3: is_prime\n",
    "def is_prime(number):\n",
    "    \"\"\"\n",
    "    Checks if a number is prime.\n",
    "    \n",
    "    Parameters:\n",
    "    - number (int): The number to check.\n",
    "    \n",
    "    Returns:\n",
    "    - bool: True if the number is prime, False otherwise.\n",
    "    \"\"\"\n",
    "    if number < 2:\n",
    "        return False\n",
    "    for i in range(2, int(number ** 0.5) + 1):\n",
    "        if number % i == 0:\n",
    "            return False\n",
    "    return True\n"
   ]
  }
 ],
 "metadata": {
  "kernelspec": {
   "display_name": "arewadatascience",
   "language": "python",
   "name": "python3"
  },
  "language_info": {
   "codemirror_mode": {
    "name": "ipython",
    "version": 3
   },
   "file_extension": ".py",
   "mimetype": "text/x-python",
   "name": "python",
   "nbconvert_exporter": "python",
   "pygments_lexer": "ipython3",
   "version": "3.12.0"
  }
 },
 "nbformat": 4,
 "nbformat_minor": 2
}

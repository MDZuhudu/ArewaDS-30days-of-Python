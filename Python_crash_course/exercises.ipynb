{
 "cells": [
  {
   "cell_type": "code",
   "execution_count": 1,
   "metadata": {},
   "outputs": [
    {
     "name": "stdout",
     "output_type": "stream",
     "text": [
      "I am learning about functions in this chapter.\n"
     ]
    }
   ],
   "source": [
    "#8.1\n",
    "def display_message():\n",
    "    print(\"I am learning about functions in this chapter.\")\n",
    "\n",
    "display_message()\n"
   ]
  },
  {
   "cell_type": "code",
   "execution_count": 2,
   "metadata": {},
   "outputs": [
    {
     "name": "stdout",
     "output_type": "stream",
     "text": [
      "One of my favorite books is Alice in Wonderland\n"
     ]
    }
   ],
   "source": [
    "#8.2\n",
    "def favorite_book(title):\n",
    "    print(\"One of my favorite books is\", title)\n",
    "\n",
    "favorite_book(\"Alice in Wonderland\")\n"
   ]
  },
  {
   "cell_type": "code",
   "execution_count": 3,
   "metadata": {},
   "outputs": [
    {
     "name": "stdout",
     "output_type": "stream",
     "text": [
      "The shirt size is M and the message printed on it is: Hello, World!\n",
      "The shirt size is L and the message printed on it is: I love Python!\n"
     ]
    }
   ],
   "source": [
    "#8.3\n",
    "def make_shirt(size, message):\n",
    "    print(\"The shirt size is\", size, \"and the message printed on it is:\", message)\n",
    "\n",
    "make_shirt(\"M\", \"Hello, World!\")\n",
    "make_shirt(size=\"L\", message=\"I love Python!\")\n"
   ]
  },
  {
   "cell_type": "code",
   "execution_count": 7,
   "metadata": {},
   "outputs": [
    {
     "name": "stdout",
     "output_type": "stream",
     "text": [
      "The shirt size is L and the message printed on it is: I love Python\n",
      "The shirt size is M and the message printed on it is: I love Python\n",
      "The shirt size is S and the message printed on it is: Muhammad\n"
     ]
    }
   ],
   "source": [
    "#8.4\n",
    "def make_shirt(size=\"L\", message=\"I love Python\"):\n",
    "    print(\"The shirt size is\", size, \"and the message printed on it is:\", message)\n",
    "\n",
    "make_shirt()  # Large shirt with default message\n",
    "make_shirt(\"M\")  # Medium shirt with default message\n",
    "make_shirt(\"S\", \"Muhammad\")  # Small shirt with custom message\n"
   ]
  },
  {
   "cell_type": "code",
   "execution_count": 6,
   "metadata": {},
   "outputs": [
    {
     "name": "stdout",
     "output_type": "stream",
     "text": [
      "Reykjavik is in Iceland\n",
      "Kano is in Nigeria\n",
      "New York is in USA\n"
     ]
    }
   ],
   "source": [
    "#8.5\n",
    "def describe_city(city, country=\"USA\"):\n",
    "    print(city, \"is in\", country)\n",
    "\n",
    "describe_city(\"Reykjavik\", \"Iceland\")\n",
    "describe_city(\"Kano\", \"Nigeria\")\n",
    "describe_city(\"New York\")\n"
   ]
  },
  {
   "cell_type": "code",
   "execution_count": 9,
   "metadata": {},
   "outputs": [
    {
     "name": "stdout",
     "output_type": "stream",
     "text": [
      "Accra, Ghana\n",
      "Kano, Nigeria\n",
      "Niamey, Niger\n"
     ]
    }
   ],
   "source": [
    "#8.6\n",
    "def city_country(city, country):\n",
    "    return f\"{city}, {country}\"\n",
    "\n",
    "print(city_country(\"Accra\", \"Ghana\"))\n",
    "print(city_country(\"Kano\", \"Nigeria\"))\n",
    "print(city_country(\"Niamey\", \"Niger\"))\n"
   ]
  },
  {
   "cell_type": "code",
   "execution_count": 12,
   "metadata": {},
   "outputs": [
    {
     "name": "stdout",
     "output_type": "stream",
     "text": [
      "{'artist': 'Alan Waka', 'title': 'Bakandamiyah'}\n",
      "{'artist': 'Davido', 'title': 'winter', 'num_songs': 5}\n",
      "{'artist': 'Hamisu Breaker', 'title': 'Zafin so', 'num_songs': 10}\n"
     ]
    }
   ],
   "source": [
    "#8.7\n",
    "def make_album(artist, title, num_songs=None):\n",
    "    album = {'artist': artist, 'title': title}\n",
    "    if num_songs:\n",
    "        album['num_songs'] = num_songs\n",
    "    return album\n",
    "\n",
    "album1 = make_album('Alan Waka', 'Bakandamiyah',)\n",
    "album2 = make_album('Davido', 'winter', 5)\n",
    "album3 = make_album('Hamisu Breaker', 'Zafin so', 10)\n",
    "\n",
    "print(album1)\n",
    "print(album2)\n",
    "print(album3)\n"
   ]
  },
  {
   "cell_type": "code",
   "execution_count": 13,
   "metadata": {},
   "outputs": [
    {
     "name": "stdout",
     "output_type": "stream",
     "text": [
      "{'artist': 'davido', 'title': 'winter'}\n",
      "{'artist': 'ala', 'title': 'bakanda'}\n"
     ]
    }
   ],
   "source": [
    "#8.8\n",
    "while True:\n",
    "    artist = input(\"Enter the album's artist (or 'quit' to exit): \")\n",
    "    if artist == 'quit':\n",
    "        break\n",
    "    title = input(\"Enter the album's title: \")\n",
    "    album = make_album(artist, title)\n",
    "    print(album)\n"
   ]
  }
 ],
 "metadata": {
  "kernelspec": {
   "display_name": "arewadatascience",
   "language": "python",
   "name": "python3"
  },
  "language_info": {
   "codemirror_mode": {
    "name": "ipython",
    "version": 3
   },
   "file_extension": ".py",
   "mimetype": "text/x-python",
   "name": "python",
   "nbconvert_exporter": "python",
   "pygments_lexer": "ipython3",
   "version": "3.12.0"
  }
 },
 "nbformat": 4,
 "nbformat_minor": 2
}

{
 "cells": [
  {
   "cell_type": "markdown",
   "metadata": {},
   "source": [
    "# Exercises: Day 16"
   ]
  },
  {
   "cell_type": "code",
   "execution_count": 11,
   "metadata": {},
   "outputs": [
    {
     "name": "stdout",
     "output_type": "stream",
     "text": [
      "2023-12-15 22:16:08.281961\n",
      "15 12 2023 22 16\n",
      "timestamp 1702674968.281961\n",
      "15/12/2023, 22:16\n"
     ]
    }
   ],
   "source": [
    "#Get the current day, month, year, hour, minute and timestamp from datetime module\n",
    "\n",
    "from datetime import datetime\n",
    "todays_date = datetime.now()\n",
    "print(todays_date)\n",
    "day = todays_date.day\n",
    "month = todays_date.month\n",
    "year = todays_date.year\n",
    "hour = todays_date.hour\n",
    "minute = todays_date.minute\n",
    "timestamp = todays_date.timestamp()\n",
    "print(day, month, year, hour, minute)\n",
    "print('timestamp', timestamp)\n",
    "print(f'{day}/{month}/{year}, {hour}:{minute}')"
   ]
  },
  {
   "cell_type": "code",
   "execution_count": 24,
   "metadata": {},
   "outputs": [
    {
     "name": "stdout",
     "output_type": "stream",
     "text": [
      "Time:  12/15/2023, 22:28:55\n"
     ]
    }
   ],
   "source": [
    "#Format the current date using this format: \"%m/%d/%Y, %H:%M:%S\")\n",
    "\n",
    "from datetime import datetime\n",
    "now = datetime.now()\n",
    "c_time = now.strftime(\"%m/%d/%Y, %H:%M:%S\")\n",
    "print('Time: ', c_time)"
   ]
  },
  {
   "cell_type": "code",
   "execution_count": 33,
   "metadata": {},
   "outputs": [
    {
     "name": "stdout",
     "output_type": "stream",
     "text": [
      "String Time:  5 December, 2019\n",
      "Time:  2019-12-05 00:00:00\n"
     ]
    }
   ],
   "source": [
    "#oday is 5 December, 2019. Change this time string to time\n",
    "from datetime import datetime\n",
    "str_time = \"5 December, 2019\"\n",
    "print('String Time: ', str_time)\n",
    "t_time = datetime.strptime(str_time,'%d %B, %Y')\n",
    "print('Time: ',t_time)"
   ]
  },
  {
   "cell_type": "code",
   "execution_count": 37,
   "metadata": {},
   "outputs": [
    {
     "name": "stdout",
     "output_type": "stream",
     "text": [
      "17 days, 0:00:00 To New year\n"
     ]
    }
   ],
   "source": [
    "#Calculate the time difference between now and new year\n",
    "\n",
    "from datetime import date\n",
    "today = date(year = 2023, month = 12, day = 15)\n",
    "new_year = date(year = 2024, month = 1, day = 1)\n",
    "diff = new_year - today\n",
    "print(diff, 'To New year')\n",
    "\n",
    "\n"
   ]
  },
  {
   "cell_type": "code",
   "execution_count": 42,
   "metadata": {},
   "outputs": [
    {
     "name": "stdout",
     "output_type": "stream",
     "text": [
      "The difference  is:  19706 days, 0:00:00\n"
     ]
    }
   ],
   "source": [
    "#Calculate the time difference between 1 January 1970 and now.\n",
    "\n",
    "from datetime import date\n",
    "older_today = date(year = 1970, month = 1, day = 1)\n",
    "current_day = date(year = 2023, month = 12, day = 15)\n",
    "diff = current_day - older_today\n",
    "print('The difference  is: ', diff)\n"
   ]
  }
 ],
 "metadata": {
  "kernelspec": {
   "display_name": "Arewadatascience",
   "language": "python",
   "name": "python3"
  },
  "language_info": {
   "codemirror_mode": {
    "name": "ipython",
    "version": 3
   },
   "file_extension": ".py",
   "mimetype": "text/x-python",
   "name": "python",
   "nbconvert_exporter": "python",
   "pygments_lexer": "ipython3",
   "version": "3.12.0"
  }
 },
 "nbformat": 4,
 "nbformat_minor": 2
}

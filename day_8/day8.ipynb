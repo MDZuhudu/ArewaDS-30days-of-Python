{
 "cells": [
  {
   "cell_type": "code",
   "execution_count": null,
   "metadata": {},
   "outputs": [],
   "source": [
    "dog = {}         #Q1"
   ]
  },
  {
   "cell_type": "code",
   "execution_count": 1,
   "metadata": {},
   "outputs": [],
   "source": [
    "dog ={              #Q2\n",
    "'name':'',\n",
    "'color':'',\n",
    "'breed':'',\n",
    "'legs':'',\n",
    "'age':'',  \n",
    "}"
   ]
  },
  {
   "cell_type": "code",
   "execution_count": 60,
   "metadata": {},
   "outputs": [
    {
     "name": "stdout",
     "output_type": "stream",
     "text": [
      "9\n",
      "['Java', 'Python', 'C++']\n",
      "<class 'list'>\n",
      "{'first_name': 'Muhammad', 'last_name': 'Dahiru', 'gender': 'male', 'age': 100, 'marital_status': 'Married', 'skills': ['Java', 'Python', 'C++', 'kotlin', 'PHP'], 'country': 'Nigeria', 'city': 'Kano', 'address': 'Dorayi'}\n",
      "dict_keys(['first_name', 'last_name', 'gender', 'age', 'marital_status', 'skills', 'country', 'city', 'address'])\n",
      "dict_values(['Muhammad', 'Dahiru', 'male', 100, 'Married', ['Java', 'Python', 'C++', 'kotlin', 'PHP'], 'Nigeria', 'Kano', 'Dorayi'])\n",
      "dict_items([('first_name', 'Muhammad'), ('last_name', 'Dahiru'), ('gender', 'male'), ('age', 100), ('marital_status', 'Married'), ('skills', ['Java', 'Python', 'C++', 'kotlin', 'PHP']), ('country', 'Nigeria'), ('city', 'Kano'), ('address', 'Dorayi')])\n",
      "{'first_name': 'Muhammad', 'last_name': 'Dahiru', 'gender': 'male', 'age': 100, 'marital_status': 'Married', 'country': 'Nigeria', 'city': 'Kano', 'address': 'Dorayi'}\n"
     ]
    }
   ],
   "source": [
    "student_dictionary = {                      #Q3\n",
    "    'first_name': 'Muhammad',\n",
    "    'last_name' : 'Dahiru',\n",
    "    'gender' : 'male',\n",
    "    'age' : 100,\n",
    "    'marital_status' : 'Married',\n",
    "    'skills' : ['Java', 'Python', 'C++'],\n",
    "    'country' : 'Nigeria',\n",
    "    'city' : 'Kano',\n",
    "    'address' : 'Dorayi'\n",
    "}\n",
    "\n",
    "print(len(student_dictionary))          #Q4\n",
    "\n",
    "print(student_dictionary.get('skills'))         #Q5\n",
    "print(type(student_dictionary['skills']))\n",
    "\n",
    "student_dictionary['skills'].append('kotlin')       #Q6\n",
    "student_dictionary['skills'].append('PHP')\n",
    "print(student_dictionary)\n",
    "\n",
    "keys = student_dictionary.keys()                        #Q7\n",
    "print(keys)\n",
    "\n",
    "values = student_dictionary.values()                        #Q8\n",
    "print(values)\n",
    "\n",
    "print(student_dictionary.items())                           #Q9\n",
    "\n",
    "del student_dictionary['skills']                          #Q10\n",
    "print(student_dictionary)\n",
    "\n",
    "del dog                                                #Q11"
   ]
  }
 ],
 "metadata": {
  "kernelspec": {
   "display_name": "Arewadatascience",
   "language": "python",
   "name": "python3"
  },
  "language_info": {
   "codemirror_mode": {
    "name": "ipython",
    "version": 3
   },
   "file_extension": ".py",
   "mimetype": "text/x-python",
   "name": "python",
   "nbconvert_exporter": "python",
   "pygments_lexer": "ipython3",
   "version": "3.12.0"
  }
 },
 "nbformat": 4,
 "nbformat_minor": 2
}

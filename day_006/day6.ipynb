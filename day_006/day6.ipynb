{
 "cells": [
  {
   "cell_type": "markdown",
   "metadata": {},
   "source": [
    "# Day 6 Exercises: Level 1"
   ]
  },
  {
   "cell_type": "code",
   "execution_count": 6,
   "metadata": {},
   "outputs": [
    {
     "name": "stdout",
     "output_type": "stream",
     "text": [
      "No of my siblings:\n",
      "9\n"
     ]
    }
   ],
   "source": [
    "empty_tpl = ()          #Q1\n",
    "\n",
    "brothers = ('Umar', 'Sadik', 'Ali', 'Sani', 'Usman')        #Q2\n",
    "\n",
    "sisters = ('Aisha', 'Anisa', 'Ilham', 'Fatima')\n",
    "siblings = sisters + brothers               #Q3\n",
    "\n",
    "print('No of my siblings:'); print(len(siblings))            #Q4\n",
    "\n",
    "#We cannot use add, insert, remove methods in a tuple because it is not modifiable      #Q5"
   ]
  },
  {
   "cell_type": "markdown",
   "metadata": {},
   "source": [
    "# Exercises: Level 2"
   ]
  },
  {
   "cell_type": "code",
   "execution_count": 24,
   "metadata": {},
   "outputs": [],
   "source": [
    "fruits = ('banana', 'orange', 'mango', 'lemon')         #Q2\n",
    "vegetables = ('Tomato', 'Potato', 'Cabbage','Onion', 'Carrot')\n",
    "animal_product = ('Milk', 'Egg', 'Meat')\n",
    "food_stuff_tp = fruits + vegetables + animal_product\n",
    "\n",
    "\n",
    "\n"
   ]
  },
  {
   "cell_type": "code",
   "execution_count": 25,
   "metadata": {},
   "outputs": [
    {
     "name": "stdout",
     "output_type": "stream",
     "text": [
      "['banana', 'orange', 'mango', 'lemon', 'Tomato', 'Potato', 'Cabbage', 'Onion', 'Carrot', 'Milk', 'Egg', 'Meat']\n"
     ]
    }
   ],
   "source": [
    "food_stuff_lt = list(food_stuff_tp)         #Q3\n",
    "print(food_stuff_lt)"
   ]
  },
  {
   "cell_type": "code",
   "execution_count": 27,
   "metadata": {},
   "outputs": [
    {
     "name": "stdout",
     "output_type": "stream",
     "text": [
      "['Cabbage']\n"
     ]
    }
   ],
   "source": [
    "\n",
    "middle_item = food_stuff_lt[6:7]            #Q4\n",
    "print(middle_item)"
   ]
  },
  {
   "cell_type": "code",
   "execution_count": 40,
   "metadata": {},
   "outputs": [
    {
     "name": "stdout",
     "output_type": "stream",
     "text": [
      "['banana', 'orange', 'mango']\n",
      "('Milk', 'Egg', 'Meat')\n"
     ]
    }
   ],
   "source": [
    "first_t_item = food_stuff_lt[0:3]            #Q5\n",
    "print(first_t_item)\n",
    "\n",
    "last_t_item = food_stuff_tp[9:12]            \n",
    "print(last_t_item)"
   ]
  },
  {
   "cell_type": "code",
   "execution_count": 41,
   "metadata": {},
   "outputs": [],
   "source": [
    "del food_stuff_tp               #Q6"
   ]
  },
  {
   "cell_type": "code",
   "execution_count": 47,
   "metadata": {},
   "outputs": [
    {
     "data": {
      "text/plain": [
       "False"
      ]
     },
     "execution_count": 47,
     "metadata": {},
     "output_type": "execute_result"
    }
   ],
   "source": [
    "nordic_countries = ('Denmark', 'Finland','Iceland', 'Norway', 'Sweden')     #Q7\n",
    "'Estonia' in nordic_countries\n"
   ]
  },
  {
   "cell_type": "code",
   "execution_count": 48,
   "metadata": {},
   "outputs": [
    {
     "data": {
      "text/plain": [
       "True"
      ]
     },
     "execution_count": 48,
     "metadata": {},
     "output_type": "execute_result"
    }
   ],
   "source": [
    "'Iceland' in nordic_countries"
   ]
  }
 ],
 "metadata": {
  "kernelspec": {
   "display_name": "Arewadatascience",
   "language": "python",
   "name": "python3"
  },
  "language_info": {
   "codemirror_mode": {
    "name": "ipython",
    "version": 3
   },
   "file_extension": ".py",
   "mimetype": "text/x-python",
   "name": "python",
   "nbconvert_exporter": "python",
   "pygments_lexer": "ipython3",
   "version": "3.12.0"
  }
 },
 "nbformat": 4,
 "nbformat_minor": 2
}

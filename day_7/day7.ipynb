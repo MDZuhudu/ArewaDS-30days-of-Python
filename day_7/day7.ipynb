{
 "cells": [
  {
   "cell_type": "markdown",
   "metadata": {},
   "source": [
    "# Day 7 Exercises: Level 1"
   ]
  },
  {
   "cell_type": "code",
   "execution_count": 5,
   "metadata": {},
   "outputs": [
    {
     "name": "stdout",
     "output_type": "stream",
     "text": [
      "7\n",
      "{'Google', 'Microsoft', 'Apple', 'Facebook', 'IBM', 'Oracle', 'Amazon', 'Twitter'}\n",
      "{'Facebook', 'Dell', 'Twitter', 'Toshiba', 'Apple', 'Amazon', 'Google', 'Microsoft', 'IBM', 'Oracle', 'HP'}\n",
      "{'Facebook', 'Dell', 'Twitter', 'Toshiba', 'Apple', 'Amazon', 'Google', 'Microsoft', 'IBM', 'Oracle'}\n"
     ]
    }
   ],
   "source": [
    "# sets\n",
    "it_companies = {'Facebook', 'Google', 'Microsoft', 'Apple', 'IBM', 'Oracle', 'Amazon'}\n",
    "\n",
    "print(len(it_companies))            #Q1\n",
    "\n",
    "it_companies.add(\"Twitter\")         #Q2\n",
    "print(it_companies)\n",
    "\n",
    "it_companies.update(['Dell', 'HP', 'Toshiba'])      #Q3\n",
    "print(it_companies)\n",
    "\n",
    "it_companies.remove('HP')                           #Q4\n",
    "print(it_companies)\n",
    "\n",
    "#"
   ]
  },
  {
   "cell_type": "markdown",
   "metadata": {},
   "source": [
    "Question 5 :\n",
    "If we want to eliminate a specific value using the remove function and that value is not present in the set then it will throw an error. But in the case of the discard function, if the value we want to eliminate is not present in the set, it will print the set as it is it won’t show any error."
   ]
  },
  {
   "cell_type": "markdown",
   "metadata": {},
   "source": [
    "# Exercises: Level 2"
   ]
  },
  {
   "cell_type": "code",
   "execution_count": 23,
   "metadata": {},
   "outputs": [
    {
     "name": "stdout",
     "output_type": "stream",
     "text": [
      "{19, 20, 22, 24, 25, 26, 27, 28}\n",
      "{19, 20, 22, 24, 25, 26}\n",
      "True\n",
      "False\n",
      "{19, 20, 22, 24, 25, 26, 27, 28}\n",
      "{19, 20, 22, 24, 25, 26, 27, 28}\n",
      "{27, 28}\n"
     ]
    }
   ],
   "source": [
    "A = {19, 22, 24, 20, 25, 26}\n",
    "B = {19, 22, 20, 25, 26, 24, 28, 27}\n",
    "\n",
    "C = A.union(B)                          #Q1\n",
    "print(C)\n",
    "\n",
    "print(A.intersection(B))                #Q2\n",
    "\n",
    "print(A.issubset(B))                    #Q3\n",
    "\n",
    "print(A.isdisjoint(B))                  #Q4\n",
    "\n",
    "print(A.union(B))                       #Q5\n",
    "print(B.union(A))\n",
    "\n",
    "print(A.symmetric_difference(B))        #Q6\n",
    "\n",
    "del A,B                                 #Q7"
   ]
  },
  {
   "cell_type": "markdown",
   "metadata": {},
   "source": [
    "# Exercises: Level 3"
   ]
  },
  {
   "cell_type": "code",
   "execution_count": 38,
   "metadata": {},
   "outputs": [
    {
     "name": "stdout",
     "output_type": "stream",
     "text": [
      "8\n",
      "5\n"
     ]
    }
   ],
   "source": [
    "age = [22, 19, 24, 25, 26, 24, 25, 24]\n",
    "\n",
    "s_age = set(age)                #Q1\n",
    "print(len(age))\n",
    "print(len(s_age))"
   ]
  },
  {
   "cell_type": "markdown",
   "metadata": {},
   "source": [
    "Q2\n",
    "List: is a collection of items that can be changed after creation. You can add, remove, or modify elements in a list. t is defined under square brackets[].\n",
    "\n",
    "Tuple: is similar to a list, but once created, its elements cannot be changed. It's like a fixed list. It is defined under parenthesis().\n",
    "\n",
    "String: is a sequence of characters, often used to represent text. Strings are immutable, meaning they can't be changed after creation.\n",
    "\n",
    "Sets: are an unordered collection of elements or unintended collection of items In python that can be changed. It is defined under curly braces{}. Sets are mutable, however, only immutable objects can be stored in it."
   ]
  },
  {
   "cell_type": "code",
   "execution_count": 41,
   "metadata": {},
   "outputs": [
    {
     "name": "stdout",
     "output_type": "stream",
     "text": [
      "['I', 'am', 'a', 'teacher', 'and', 'I', 'love', 'to', 'inspire', 'and', 'teach', 'people.']\n",
      "{'love', 'am', 'teacher', 'people.', 'to', 'a', 'I', 'teach', 'inspire', 'and'}\n",
      "10\n",
      "\n"
     ]
    }
   ],
   "source": [
    "#st= {'I' ,'am' ,'a' ,'teacher' ,'and', 'I', 'love', 'to', 'inspire' ,'and', 'teach' ,'people'}\n",
    "#print(len(st))\n",
    "\n",
    "s = \"I am a teacher and I love to inspire and teach people.\".split()\n",
    "print(s)\n",
    "u_words = set(s)\n",
    "print(u_words)\n",
    "print(len(u_words))\n",
    "print()"
   ]
  }
 ],
 "metadata": {
  "kernelspec": {
   "display_name": "Arewadatascience",
   "language": "python",
   "name": "python3"
  },
  "language_info": {
   "codemirror_mode": {
    "name": "ipython",
    "version": 3
   },
   "file_extension": ".py",
   "mimetype": "text/x-python",
   "name": "python",
   "nbconvert_exporter": "python",
   "pygments_lexer": "ipython3",
   "version": "3.12.0"
  }
 },
 "nbformat": 4,
 "nbformat_minor": 2
}

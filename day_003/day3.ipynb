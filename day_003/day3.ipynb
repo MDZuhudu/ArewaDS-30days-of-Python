{
 "cells": [
  {
   "cell_type": "markdown",
   "metadata": {},
   "source": [
    "# Day 3 Excercise"
   ]
  },
  {
   "cell_type": "code",
   "execution_count": 112,
   "metadata": {},
   "outputs": [],
   "source": [
    "age = 50        #Q1"
   ]
  },
  {
   "cell_type": "code",
   "execution_count": 113,
   "metadata": {},
   "outputs": [],
   "source": [
    "height = 50.5  #Q2"
   ]
  },
  {
   "cell_type": "code",
   "execution_count": 114,
   "metadata": {},
   "outputs": [],
   "source": [
    "complex_no = 8 - 6j     #Q3"
   ]
  },
  {
   "cell_type": "code",
   "execution_count": 115,
   "metadata": {},
   "outputs": [
    {
     "name": "stdout",
     "output_type": "stream",
     "text": [
      "Area of Triangle = 600.0\n"
     ]
    }
   ],
   "source": [
    "base = int(input('enter base'))                                 #Q4\n",
    "height = float(input('enter height'))\n",
    "area_of_triangle = 0.5 * base * height\n",
    "print('Area of Triangle =', area_of_triangle )"
   ]
  },
  {
   "cell_type": "code",
   "execution_count": 116,
   "metadata": {},
   "outputs": [
    {
     "name": "stdout",
     "output_type": "stream",
     "text": [
      "The Perimeter of the angle =  64\n"
     ]
    }
   ],
   "source": [
    "A = int(input('Enter side A'))                              #Q5\n",
    "B = int(input('Enter side B'))\n",
    "C = int(input('Enter side C'))\n",
    "perimeter = int(A+B+C)\n",
    "print('The Perimeter of the angle = ', perimeter)"
   ]
  },
  {
   "cell_type": "code",
   "execution_count": 117,
   "metadata": {},
   "outputs": [
    {
     "name": "stdout",
     "output_type": "stream",
     "text": [
      "Area= 484\n",
      "Perimeter=  88\n"
     ]
    }
   ],
   "source": [
    "length = int(input('Enter Length'))     #Q6\n",
    "width = int(input('Enter Width'))\n",
    "area = int(length * width)\n",
    "perimeter_ = 2 * int(length + width)\n",
    "print('Area=', area)\n",
    "print('Perimeter= ', perimeter_)"
   ]
  },
  {
   "cell_type": "code",
   "execution_count": 16,
   "metadata": {},
   "outputs": [
    {
     "name": "stdout",
     "output_type": "stream",
     "text": [
      "Area of the circle = 1256.0\n",
      "Circumference of the circle = 125.60000000000001\n"
     ]
    }
   ],
   "source": [
    "radius = int(input('Enter the Radius of the Circle: '))    #Q7\n",
    "pi = 3.14\n",
    "Area = pi * radius * radius\n",
    "circum = 2 * pi * radius\n",
    "print('Area of the circle =', Area)\n",
    "print('Circumference of the circle =', circum)"
   ]
  },
  {
   "cell_type": "code",
   "execution_count": 13,
   "metadata": {},
   "outputs": [
    {
     "name": "stdout",
     "output_type": "stream",
     "text": [
      "The slope in x-intercept and y-intercept of y = 2x -2 is:  0.25\n"
     ]
    }
   ],
   "source": [
    "change_in_y = int(8 - 7)            #Q8\n",
    "change_in_x = int(8 - 4)\n",
    "slope = float(format(change_in_y/change_in_x, '.2f'))\n",
    "print('The slope in x-intercept and y-intercept of y = 2x -2 is: ', slope,)"
   ]
  },
  {
   "cell_type": "code",
   "execution_count": 12,
   "metadata": {},
   "outputs": [
    {
     "name": "stdout",
     "output_type": "stream",
     "text": [
      "The slope in x-intercept and y-intercept of y = 2x -2 is equal to slope \n",
      "with point1(2,2) and point2(6,10): is  2.0\n"
     ]
    }
   ],
   "source": [
    "change_in_y_b = int(10 - 2)         #Q9\n",
    "change_in_x_b = int(6 - 2)\n",
    "slope_b = (change_in_y_b/change_in_x_b)\n",
    "print('The slope in x-intercept and y-intercept of y = 2x -2 is equal to slope \\nwith point1(2,2) and point2(6,10): is ', slope_b)"
   ]
  },
  {
   "cell_type": "code",
   "execution_count": 14,
   "metadata": {},
   "outputs": [
    {
     "data": {
      "text/plain": [
       "False"
      ]
     },
     "execution_count": 14,
     "metadata": {},
     "output_type": "execute_result"
    }
   ],
   "source": [
    "slope == slope_b                #Q10"
   ]
  },
  {
   "cell_type": "code",
   "execution_count": 45,
   "metadata": {},
   "outputs": [
    {
     "name": "stdout",
     "output_type": "stream",
     "text": [
      "0\n"
     ]
    }
   ],
   "source": [
    "x =int(-3)                       #11\n",
    "y = int(x ** 2 + 6 * x + 9)\n",
    "print(y)"
   ]
  },
  {
   "cell_type": "code",
   "execution_count": 42,
   "metadata": {},
   "outputs": [
    {
     "name": "stdout",
     "output_type": "stream",
     "text": [
      "6\n",
      "6\n",
      "False\n"
     ]
    }
   ],
   "source": [
    "print(len('Python'))               #12\n",
    "print(len('Dragon'))\n",
    "print(len('Python') != len('Dragon'))"
   ]
  },
  {
   "cell_type": "code",
   "execution_count": 55,
   "metadata": {},
   "outputs": [
    {
     "name": "stdout",
     "output_type": "stream",
     "text": [
      "True\n"
     ]
    }
   ],
   "source": [
    "print('on in Python'and 'on' in 'Dragon')        #Q13"
   ]
  },
  {
   "cell_type": "code",
   "execution_count": 57,
   "metadata": {},
   "outputs": [
    {
     "name": "stdout",
     "output_type": "stream",
     "text": [
      "True\n"
     ]
    }
   ],
   "source": [
    "print('jargon'in 'I hope this course is not full of jargon''on')        #Q14"
   ]
  },
  {
   "cell_type": "code",
   "execution_count": 60,
   "metadata": {},
   "outputs": [
    {
     "name": "stdout",
     "output_type": "stream",
     "text": [
      "False\n"
     ]
    }
   ],
   "source": [
    "print('!on' in 'Dragon and python')                 #Q15"
   ]
  },
  {
   "cell_type": "code",
   "execution_count": 88,
   "metadata": {},
   "outputs": [
    {
     "name": "stdout",
     "output_type": "stream",
     "text": [
      "6\n",
      "6.0\n",
      "6\n"
     ]
    }
   ],
   "source": [
    "A= len('Python')                #Q16\n",
    "print(A)\n",
    "print(float(A))\n",
    "print(str(A))"
   ]
  },
  {
   "cell_type": "code",
   "execution_count": 94,
   "metadata": {},
   "outputs": [
    {
     "name": "stdout",
     "output_type": "stream",
     "text": [
      "The Number is even\n"
     ]
    }
   ],
   "source": [
    "num = int(input('Enter Any Number:'))               #Q17\n",
    "if(num % 2) == 0 : print('The Number is even')\n",
    "else : print('The Number is odd')"
   ]
  },
  {
   "cell_type": "code",
   "execution_count": 121,
   "metadata": {},
   "outputs": [
    {
     "data": {
      "text/plain": [
       "True"
      ]
     },
     "execution_count": 121,
     "metadata": {},
     "output_type": "execute_result"
    }
   ],
   "source": [
    "A = 7//3                #Q18\n",
    "B = int(2.7)\n",
    "A == B"
   ]
  },
  {
   "cell_type": "code",
   "execution_count": 95,
   "metadata": {},
   "outputs": [
    {
     "data": {
      "text/plain": [
       "True"
      ]
     },
     "execution_count": 95,
     "metadata": {},
     "output_type": "execute_result"
    }
   ],
   "source": [
    "type(10) == type(10)                #Q19"
   ]
  },
  {
   "cell_type": "code",
   "execution_count": 96,
   "metadata": {},
   "outputs": [
    {
     "data": {
      "text/plain": [
       "False"
      ]
     },
     "execution_count": 96,
     "metadata": {},
     "output_type": "execute_result"
    }
   ],
   "source": [
    "type(9.8) == type(10)           #Q20"
   ]
  },
  {
   "cell_type": "code",
   "execution_count": 104,
   "metadata": {},
   "outputs": [
    {
     "name": "stdout",
     "output_type": "stream",
     "text": [
      "Enter Hours: 10\n",
      "Enter rate per hour 10\n",
      "Your weekly earning is  100\n"
     ]
    }
   ],
   "source": [
    "hours =int(input('Enter Hours:'))               #Q21\n",
    "rate =int(input('Enter rate per hour'))\n",
    "print('Enter Hours:', hours)\n",
    "print('Enter rate per hour', rate)\n",
    "earning=print('Your weekly earning is ', hours * rate)"
   ]
  },
  {
   "cell_type": "code",
   "execution_count": 106,
   "metadata": {},
   "outputs": [
    {
     "name": "stdout",
     "output_type": "stream",
     "text": [
      "Enter number of years you have lived: 20\n",
      "You have lived for  630720000\n"
     ]
    }
   ],
   "source": [
    "years =int(input('Enter number of years you have lived:'))          #Q22\n",
    "print('Enter number of years you have lived:', years)\n",
    "print('You have lived for ', years * 31536000)"
   ]
  },
  {
   "cell_type": "code",
   "execution_count": 107,
   "metadata": {},
   "outputs": [
    {
     "name": "stdout",
     "output_type": "stream",
     "text": [
      "1 1 1 1 1\n",
      "2 1 2 4 8\n",
      "3 1 3 9 27\n",
      "4 1 4 16 64\n",
      "5 1 5 25 125\n"
     ]
    }
   ],
   "source": [
    "print('1 1 1 1 1')                              #Q23\n",
    "print('2 1 2 4 8')\n",
    "print('3 1 3 9 27')\n",
    "print('4 1 4 16 64')\n",
    "print('5 1 5 25 125')"
   ]
  }
 ],
 "metadata": {
  "kernelspec": {
   "display_name": "Arewadatascience",
   "language": "python",
   "name": "python3"
  },
  "language_info": {
   "codemirror_mode": {
    "name": "ipython",
    "version": 3
   },
   "file_extension": ".py",
   "mimetype": "text/x-python",
   "name": "python",
   "nbconvert_exporter": "python",
   "pygments_lexer": "ipython3",
   "version": "3.12.0"
  }
 },
 "nbformat": 4,
 "nbformat_minor": 2
}
